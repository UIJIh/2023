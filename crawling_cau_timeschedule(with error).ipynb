{
 "cells": [
  {
   "cell_type": "markdown",
   "id": "e19ecc33",
   "metadata": {},
   "source": [
    "`driver.find_element`는 `Selenium WebDriver` 객체의 메서드로, 웹 페이지에서 요소를 찾는 데 사용\n",
    "\n",
    "`By.ID`: id 속성으로 요소를 찾습니다.\n",
    "\n",
    "`By.CLASS_NAME`: class 속성으로 요소를 찾습니다.\n",
    "\n",
    "`By.NAME`: name 속성으로 요소를 찾습니다.\n",
    "\n",
    "`By.XPATH`: XPath 표현식을 사용하여 요소를 찾습니다.\n",
    "\n",
    "`By.CSS_SELECTOR`: CSS 선택자를 사용하여 요소를 찾습니다."
   ]
  },
  {
   "cell_type": "markdown",
   "id": "b53f5929",
   "metadata": {},
   "source": [
    "pip install html_table_parser"
   ]
  },
  {
   "cell_type": "code",
   "execution_count": 9,
   "id": "2f65f84a",
   "metadata": {},
   "outputs": [
    {
     "name": "stdout",
     "output_type": "stream",
     "text": [
      "Empty DataFrame\n",
      "Columns: []\n",
      "Index: []\n"
     ]
    }
   ],
   "source": [
    "import requests\n",
    "from bs4 import BeautifulSoup\n",
    "import pandas as pd\n",
    "\n",
    "request = requests.get('https://mportal.cau.ac.kr/std/usk/sUskSif001/search.do')\n",
    "soup = BeautifulSoup(request.text, 'html.parser')\n",
    "\n",
    "## `find` 대신 `find_all`을 사용하여 표의 모든 div 요소를 가져옵니다. ##\n",
    "data = soup.find_all(\"div\", {'class':'sp-grid selectable'})\n",
    "\n",
    "table_data = []\n",
    "\n",
    "## 표의 각 행을 반복 ##\n",
    "for row in data:\n",
    "    row_data = []\n",
    "    \n",
    "    ## 각 row의 column 값을 추출하여 table_data 리스트에 추가 ##\n",
    "    columns = row.find_all('span', class_='ng-scope')\n",
    "    for column in columns:\n",
    "        row_data.append(column.text.strip())\n",
    "        \n",
    "    table_data.append(row_data)\n",
    "\n",
    "df = pd.DataFrame(table_data)\n",
    "print(df)"
   ]
  },
  {
   "cell_type": "code",
   "execution_count": null,
   "id": "9e6ce0ee",
   "metadata": {},
   "outputs": [],
   "source": [
    "from bs4 import BeautifulSoup\n",
    "from selenium import webdriver\n",
    "from selenium.webdriver.common.by import By\n",
    "from html_table_parser import parser_functions\n",
    "import requests\n",
    "import pandas as pd\n",
    "import time"
   ]
  },
  {
   "cell_type": "code",
   "execution_count": 59,
   "id": "0aee6e2c",
   "metadata": {},
   "outputs": [
    {
     "ename": "InvalidSelectorException",
     "evalue": "Message: invalid selector: Unable to locate an element with the xpath expression //*[@id=\"sel_camp\"]option[2] because of the following error:\nSyntaxError: Failed to execute 'evaluate' on 'Document': The string '//*[@id=\"sel_camp\"]option[2]' is not a valid XPath expression.\n  (Session info: chrome=114.0.5735.199); For documentation on this error, please visit: https://www.selenium.dev/documentation/webdriver/troubleshooting/errors#invalid-selector-exception\nStacktrace:\nBacktrace:\n\tGetHandleVerifier [0x00A9A813+48355]\n\t(No symbol) [0x00A2C4B1]\n\t(No symbol) [0x00935358]\n\t(No symbol) [0x009387A1]\n\t(No symbol) [0x009399E1]\n\t(No symbol) [0x00939A80]\n\t(No symbol) [0x0096061C]\n\t(No symbol) [0x00960B3B]\n\t(No symbol) [0x0098E232]\n\t(No symbol) [0x0097A784]\n\t(No symbol) [0x0098C922]\n\t(No symbol) [0x0097A536]\n\t(No symbol) [0x009582DC]\n\t(No symbol) [0x009593DD]\n\tGetHandleVerifier [0x00CFAABD+2539405]\n\tGetHandleVerifier [0x00D3A78F+2800735]\n\tGetHandleVerifier [0x00D3456C+2775612]\n\tGetHandleVerifier [0x00B251E0+616112]\n\t(No symbol) [0x00A35F8C]\n\t(No symbol) [0x00A32328]\n\t(No symbol) [0x00A3240B]\n\t(No symbol) [0x00A24FF7]\n\tBaseThreadInitThunk [0x758A7D59+25]\n\tRtlInitializeExceptionChain [0x7747B79B+107]\n\tRtlClearBits [0x7747B71F+191]\n",
     "output_type": "error",
     "traceback": [
      "\u001b[1;31m---------------------------------------------------------------------------\u001b[0m",
      "\u001b[1;31mInvalidSelectorException\u001b[0m                  Traceback (most recent call last)",
      "Cell \u001b[1;32mIn[59], line 13\u001b[0m\n\u001b[0;32m     11\u001b[0m driver\u001b[38;5;241m.\u001b[39mfind_element(By\u001b[38;5;241m.\u001b[39mXPATH, \u001b[38;5;124m'\u001b[39m\u001b[38;5;124m//*[@id=\u001b[39m\u001b[38;5;124m\"\u001b[39m\u001b[38;5;124msel_shtm\u001b[39m\u001b[38;5;124m\"\u001b[39m\u001b[38;5;124m]/option[\u001b[39m\u001b[38;5;124m'\u001b[39m\u001b[38;5;241m+\u001b[39m\u001b[38;5;28mstr\u001b[39m(s)\u001b[38;5;241m+\u001b[39m\u001b[38;5;124m'\u001b[39m\u001b[38;5;124m]\u001b[39m\u001b[38;5;124m'\u001b[39m)\u001b[38;5;241m.\u001b[39mclick()  \u001b[38;5;66;03m# string\u001b[39;00m\n\u001b[0;32m     12\u001b[0m \u001b[38;5;28;01mfor\u001b[39;00m c \u001b[38;5;129;01min\u001b[39;00m \u001b[38;5;28mrange\u001b[39m(\u001b[38;5;241m2\u001b[39m,\u001b[38;5;241m4\u001b[39m):  \u001b[38;5;66;03m# 캠퍼스\u001b[39;00m\n\u001b[1;32m---> 13\u001b[0m     \u001b[43mdriver\u001b[49m\u001b[38;5;241;43m.\u001b[39;49m\u001b[43mfind_element\u001b[49m\u001b[43m(\u001b[49m\u001b[43mBy\u001b[49m\u001b[38;5;241;43m.\u001b[39;49m\u001b[43mXPATH\u001b[49m\u001b[43m,\u001b[49m\u001b[43m \u001b[49m\u001b[38;5;124;43m'\u001b[39;49m\u001b[38;5;124;43m//*[@id=\u001b[39;49m\u001b[38;5;124;43m\"\u001b[39;49m\u001b[38;5;124;43msel_camp\u001b[39;49m\u001b[38;5;124;43m\"\u001b[39;49m\u001b[38;5;124;43m]option[\u001b[39;49m\u001b[38;5;124;43m'\u001b[39;49m\u001b[38;5;241;43m+\u001b[39;49m\u001b[38;5;28;43mstr\u001b[39;49m\u001b[43m(\u001b[49m\u001b[43mc\u001b[49m\u001b[43m)\u001b[49m\u001b[38;5;241;43m+\u001b[39;49m\u001b[38;5;124;43m'\u001b[39;49m\u001b[38;5;124;43m]\u001b[39;49m\u001b[38;5;124;43m'\u001b[39;49m\u001b[43m)\u001b[49m\u001b[38;5;241m.\u001b[39mclick()\n\u001b[0;32m     14\u001b[0m     \u001b[38;5;28;01mfor\u001b[39;00m d \u001b[38;5;129;01min\u001b[39;00m (\u001b[38;5;241m3\u001b[39m, end_value \u001b[38;5;241m+\u001b[39m \u001b[38;5;241m1\u001b[39m):  \u001b[38;5;66;03m# 단과대  (~끝)\u001b[39;00m\n\u001b[0;32m     15\u001b[0m         driver\u001b[38;5;241m.\u001b[39mfind_element(By\u001b[38;5;241m.\u001b[39mXPATH, \u001b[38;5;124m'\u001b[39m\u001b[38;5;124m//*[@id=\u001b[39m\u001b[38;5;124m\"\u001b[39m\u001b[38;5;124msel_colg\u001b[39m\u001b[38;5;124m\"\u001b[39m\u001b[38;5;124m]/option[\u001b[39m\u001b[38;5;124m'\u001b[39m\u001b[38;5;241m+\u001b[39m\u001b[38;5;28mstr\u001b[39m(d)\u001b[38;5;241m+\u001b[39m\u001b[38;5;124m'\u001b[39m\u001b[38;5;124m]\u001b[39m\u001b[38;5;124m'\u001b[39m)\u001b[38;5;241m.\u001b[39mclick()\n",
      "File \u001b[1;32mC:\\Neuer Ordner\\lib\\site-packages\\selenium\\webdriver\\remote\\webdriver.py:740\u001b[0m, in \u001b[0;36mWebDriver.find_element\u001b[1;34m(self, by, value)\u001b[0m\n\u001b[0;32m    737\u001b[0m     by \u001b[38;5;241m=\u001b[39m By\u001b[38;5;241m.\u001b[39mCSS_SELECTOR\n\u001b[0;32m    738\u001b[0m     value \u001b[38;5;241m=\u001b[39m \u001b[38;5;124mf\u001b[39m\u001b[38;5;124m'\u001b[39m\u001b[38;5;124m[name=\u001b[39m\u001b[38;5;124m\"\u001b[39m\u001b[38;5;132;01m{\u001b[39;00mvalue\u001b[38;5;132;01m}\u001b[39;00m\u001b[38;5;124m\"\u001b[39m\u001b[38;5;124m]\u001b[39m\u001b[38;5;124m'\u001b[39m\n\u001b[1;32m--> 740\u001b[0m \u001b[38;5;28;01mreturn\u001b[39;00m \u001b[38;5;28;43mself\u001b[39;49m\u001b[38;5;241;43m.\u001b[39;49m\u001b[43mexecute\u001b[49m\u001b[43m(\u001b[49m\u001b[43mCommand\u001b[49m\u001b[38;5;241;43m.\u001b[39;49m\u001b[43mFIND_ELEMENT\u001b[49m\u001b[43m,\u001b[49m\u001b[43m \u001b[49m\u001b[43m{\u001b[49m\u001b[38;5;124;43m\"\u001b[39;49m\u001b[38;5;124;43musing\u001b[39;49m\u001b[38;5;124;43m\"\u001b[39;49m\u001b[43m:\u001b[49m\u001b[43m \u001b[49m\u001b[43mby\u001b[49m\u001b[43m,\u001b[49m\u001b[43m \u001b[49m\u001b[38;5;124;43m\"\u001b[39;49m\u001b[38;5;124;43mvalue\u001b[39;49m\u001b[38;5;124;43m\"\u001b[39;49m\u001b[43m:\u001b[49m\u001b[43m \u001b[49m\u001b[43mvalue\u001b[49m\u001b[43m}\u001b[49m\u001b[43m)\u001b[49m[\u001b[38;5;124m\"\u001b[39m\u001b[38;5;124mvalue\u001b[39m\u001b[38;5;124m\"\u001b[39m]\n",
      "File \u001b[1;32mC:\\Neuer Ordner\\lib\\site-packages\\selenium\\webdriver\\remote\\webdriver.py:346\u001b[0m, in \u001b[0;36mWebDriver.execute\u001b[1;34m(self, driver_command, params)\u001b[0m\n\u001b[0;32m    344\u001b[0m response \u001b[38;5;241m=\u001b[39m \u001b[38;5;28mself\u001b[39m\u001b[38;5;241m.\u001b[39mcommand_executor\u001b[38;5;241m.\u001b[39mexecute(driver_command, params)\n\u001b[0;32m    345\u001b[0m \u001b[38;5;28;01mif\u001b[39;00m response:\n\u001b[1;32m--> 346\u001b[0m     \u001b[38;5;28;43mself\u001b[39;49m\u001b[38;5;241;43m.\u001b[39;49m\u001b[43merror_handler\u001b[49m\u001b[38;5;241;43m.\u001b[39;49m\u001b[43mcheck_response\u001b[49m\u001b[43m(\u001b[49m\u001b[43mresponse\u001b[49m\u001b[43m)\u001b[49m\n\u001b[0;32m    347\u001b[0m     response[\u001b[38;5;124m\"\u001b[39m\u001b[38;5;124mvalue\u001b[39m\u001b[38;5;124m\"\u001b[39m] \u001b[38;5;241m=\u001b[39m \u001b[38;5;28mself\u001b[39m\u001b[38;5;241m.\u001b[39m_unwrap_value(response\u001b[38;5;241m.\u001b[39mget(\u001b[38;5;124m\"\u001b[39m\u001b[38;5;124mvalue\u001b[39m\u001b[38;5;124m\"\u001b[39m, \u001b[38;5;28;01mNone\u001b[39;00m))\n\u001b[0;32m    348\u001b[0m     \u001b[38;5;28;01mreturn\u001b[39;00m response\n",
      "File \u001b[1;32mC:\\Neuer Ordner\\lib\\site-packages\\selenium\\webdriver\\remote\\errorhandler.py:245\u001b[0m, in \u001b[0;36mErrorHandler.check_response\u001b[1;34m(self, response)\u001b[0m\n\u001b[0;32m    243\u001b[0m         alert_text \u001b[38;5;241m=\u001b[39m value[\u001b[38;5;124m\"\u001b[39m\u001b[38;5;124malert\u001b[39m\u001b[38;5;124m\"\u001b[39m]\u001b[38;5;241m.\u001b[39mget(\u001b[38;5;124m\"\u001b[39m\u001b[38;5;124mtext\u001b[39m\u001b[38;5;124m\"\u001b[39m)\n\u001b[0;32m    244\u001b[0m     \u001b[38;5;28;01mraise\u001b[39;00m exception_class(message, screen, stacktrace, alert_text)  \u001b[38;5;66;03m# type: ignore[call-arg]  # mypy is not smart enough here\u001b[39;00m\n\u001b[1;32m--> 245\u001b[0m \u001b[38;5;28;01mraise\u001b[39;00m exception_class(message, screen, stacktrace)\n",
      "\u001b[1;31mInvalidSelectorException\u001b[0m: Message: invalid selector: Unable to locate an element with the xpath expression //*[@id=\"sel_camp\"]option[2] because of the following error:\nSyntaxError: Failed to execute 'evaluate' on 'Document': The string '//*[@id=\"sel_camp\"]option[2]' is not a valid XPath expression.\n  (Session info: chrome=114.0.5735.199); For documentation on this error, please visit: https://www.selenium.dev/documentation/webdriver/troubleshooting/errors#invalid-selector-exception\nStacktrace:\nBacktrace:\n\tGetHandleVerifier [0x00A9A813+48355]\n\t(No symbol) [0x00A2C4B1]\n\t(No symbol) [0x00935358]\n\t(No symbol) [0x009387A1]\n\t(No symbol) [0x009399E1]\n\t(No symbol) [0x00939A80]\n\t(No symbol) [0x0096061C]\n\t(No symbol) [0x00960B3B]\n\t(No symbol) [0x0098E232]\n\t(No symbol) [0x0097A784]\n\t(No symbol) [0x0098C922]\n\t(No symbol) [0x0097A536]\n\t(No symbol) [0x009582DC]\n\t(No symbol) [0x009593DD]\n\tGetHandleVerifier [0x00CFAABD+2539405]\n\tGetHandleVerifier [0x00D3A78F+2800735]\n\tGetHandleVerifier [0x00D3456C+2775612]\n\tGetHandleVerifier [0x00B251E0+616112]\n\t(No symbol) [0x00A35F8C]\n\t(No symbol) [0x00A32328]\n\t(No symbol) [0x00A3240B]\n\t(No symbol) [0x00A24FF7]\n\tBaseThreadInitThunk [0x758A7D59+25]\n\tRtlInitializeExceptionChain [0x7747B79B+107]\n\tRtlClearBits [0x7747B71F+191]\n"
     ]
    }
   ],
   "source": [
    "sugang_url = 'https://mportal.cau.ac.kr/std/usk/sUskSif001/search.do'\n",
    "driver = webdriver.Chrome()\n",
    "driver.get(sugang_url)\n",
    "time.sleep(3)\n",
    "\n",
    "driver.find_element(By.XPATH, '//*[@id=\"sel_year\"]/option[2]').click()  # 2022년\n",
    "driver.find_element(By.XPATH, '//*[@id=\"sel_course\"]').click()          # 학부\n",
    "\n",
    "for s in range(1,4):      # 학기\n",
    "       if s == 1 or s == 3:   # 계절학기 제외\n",
    "            driver.find_element(By.XPATH, '//*[@id=\"sel_shtm\"]/option['+str(s)+']').click()  # string\n",
    "            for c in range(2,4):  # 캠퍼스\n",
    "                driver.find_element(By.XPATH, '//*[@id=\"sel_camp\"]option['+str(c)+']').click()\n",
    "                for d in (3, end_value + 1):  # 단과대  (~끝)\n",
    "                    driver.find_element(By.XPATH, '//*[@id=\"sel_colg\"]/option['+str(d)+']').click()\n",
    "                    for m in range(2, end_value + 1):  # 학과(부)/전공/영역 \n",
    "                        driver.find_element(By.XPATH, '//*[@id=\"sel_sust\"]/option['+str(m)+']').click() \n",
    "                        driver.find_element(By.XPATH, '//*[@id=\"nbContext\"]/div[2]/div/div[1]/section[1]/div[2]/div/div/button').click()\n",
    "                        print('//*[@id=\"sel_sust\"]/option[' + str(m) + ']')"
   ]
  },
  {
   "cell_type": "code",
   "execution_count": 61,
   "id": "4e00f72c",
   "metadata": {},
   "outputs": [
    {
     "name": "stdout",
     "output_type": "stream",
     "text": [
      "//*[@id=\"sel_shtm\"]/option[1]\n"
     ]
    },
    {
     "ename": "InvalidSelectorException",
     "evalue": "Message: invalid selector: Unable to locate an element with the xpath expression //*[@id=\"sel_camp\"]option[2] because of the following error:\nSyntaxError: Failed to execute 'evaluate' on 'Document': The string '//*[@id=\"sel_camp\"]option[2]' is not a valid XPath expression.\n  (Session info: chrome=114.0.5735.199); For documentation on this error, please visit: https://www.selenium.dev/documentation/webdriver/troubleshooting/errors#invalid-selector-exception\nStacktrace:\nBacktrace:\n\tGetHandleVerifier [0x00A9A813+48355]\n\t(No symbol) [0x00A2C4B1]\n\t(No symbol) [0x00935358]\n\t(No symbol) [0x009387A1]\n\t(No symbol) [0x009399E1]\n\t(No symbol) [0x00939A80]\n\t(No symbol) [0x0096061C]\n\t(No symbol) [0x00960B3B]\n\t(No symbol) [0x0098E232]\n\t(No symbol) [0x0097A784]\n\t(No symbol) [0x0098C922]\n\t(No symbol) [0x0097A536]\n\t(No symbol) [0x009582DC]\n\t(No symbol) [0x009593DD]\n\tGetHandleVerifier [0x00CFAABD+2539405]\n\tGetHandleVerifier [0x00D3A78F+2800735]\n\tGetHandleVerifier [0x00D3456C+2775612]\n\tGetHandleVerifier [0x00B251E0+616112]\n\t(No symbol) [0x00A35F8C]\n\t(No symbol) [0x00A32328]\n\t(No symbol) [0x00A3240B]\n\t(No symbol) [0x00A24FF7]\n\tBaseThreadInitThunk [0x758A7D59+25]\n\tRtlInitializeExceptionChain [0x7747B79B+107]\n\tRtlClearBits [0x7747B71F+191]\n",
     "output_type": "error",
     "traceback": [
      "\u001b[1;31m---------------------------------------------------------------------------\u001b[0m",
      "\u001b[1;31mInvalidSelectorException\u001b[0m                  Traceback (most recent call last)",
      "Cell \u001b[1;32mIn[61], line 14\u001b[0m\n\u001b[0;32m     12\u001b[0m \u001b[38;5;28mprint\u001b[39m(\u001b[38;5;124m'\u001b[39m\u001b[38;5;124m//*[@id=\u001b[39m\u001b[38;5;124m\"\u001b[39m\u001b[38;5;124msel_shtm\u001b[39m\u001b[38;5;124m\"\u001b[39m\u001b[38;5;124m]/option[\u001b[39m\u001b[38;5;124m'\u001b[39m\u001b[38;5;241m+\u001b[39m\u001b[38;5;28mstr\u001b[39m(s)\u001b[38;5;241m+\u001b[39m\u001b[38;5;124m'\u001b[39m\u001b[38;5;124m]\u001b[39m\u001b[38;5;124m'\u001b[39m)\n\u001b[0;32m     13\u001b[0m \u001b[38;5;28;01mfor\u001b[39;00m c \u001b[38;5;129;01min\u001b[39;00m \u001b[38;5;28mrange\u001b[39m(\u001b[38;5;241m2\u001b[39m,\u001b[38;5;241m4\u001b[39m):  \u001b[38;5;66;03m# 캠퍼스\u001b[39;00m\n\u001b[1;32m---> 14\u001b[0m     \u001b[43mdriver\u001b[49m\u001b[38;5;241;43m.\u001b[39;49m\u001b[43mfind_element\u001b[49m\u001b[43m(\u001b[49m\u001b[43mBy\u001b[49m\u001b[38;5;241;43m.\u001b[39;49m\u001b[43mXPATH\u001b[49m\u001b[43m,\u001b[49m\u001b[43m \u001b[49m\u001b[38;5;124;43m'\u001b[39;49m\u001b[38;5;124;43m//*[@id=\u001b[39;49m\u001b[38;5;124;43m\"\u001b[39;49m\u001b[38;5;124;43msel_camp\u001b[39;49m\u001b[38;5;124;43m\"\u001b[39;49m\u001b[38;5;124;43m]option[\u001b[39;49m\u001b[38;5;124;43m'\u001b[39;49m\u001b[38;5;241;43m+\u001b[39;49m\u001b[38;5;28;43mstr\u001b[39;49m\u001b[43m(\u001b[49m\u001b[43mc\u001b[49m\u001b[43m)\u001b[49m\u001b[38;5;241;43m+\u001b[39;49m\u001b[38;5;124;43m'\u001b[39;49m\u001b[38;5;124;43m]\u001b[39;49m\u001b[38;5;124;43m'\u001b[39;49m\u001b[43m)\u001b[49m\u001b[38;5;241m.\u001b[39mclick()\n",
      "File \u001b[1;32mC:\\Neuer Ordner\\lib\\site-packages\\selenium\\webdriver\\remote\\webdriver.py:740\u001b[0m, in \u001b[0;36mWebDriver.find_element\u001b[1;34m(self, by, value)\u001b[0m\n\u001b[0;32m    737\u001b[0m     by \u001b[38;5;241m=\u001b[39m By\u001b[38;5;241m.\u001b[39mCSS_SELECTOR\n\u001b[0;32m    738\u001b[0m     value \u001b[38;5;241m=\u001b[39m \u001b[38;5;124mf\u001b[39m\u001b[38;5;124m'\u001b[39m\u001b[38;5;124m[name=\u001b[39m\u001b[38;5;124m\"\u001b[39m\u001b[38;5;132;01m{\u001b[39;00mvalue\u001b[38;5;132;01m}\u001b[39;00m\u001b[38;5;124m\"\u001b[39m\u001b[38;5;124m]\u001b[39m\u001b[38;5;124m'\u001b[39m\n\u001b[1;32m--> 740\u001b[0m \u001b[38;5;28;01mreturn\u001b[39;00m \u001b[38;5;28;43mself\u001b[39;49m\u001b[38;5;241;43m.\u001b[39;49m\u001b[43mexecute\u001b[49m\u001b[43m(\u001b[49m\u001b[43mCommand\u001b[49m\u001b[38;5;241;43m.\u001b[39;49m\u001b[43mFIND_ELEMENT\u001b[49m\u001b[43m,\u001b[49m\u001b[43m \u001b[49m\u001b[43m{\u001b[49m\u001b[38;5;124;43m\"\u001b[39;49m\u001b[38;5;124;43musing\u001b[39;49m\u001b[38;5;124;43m\"\u001b[39;49m\u001b[43m:\u001b[49m\u001b[43m \u001b[49m\u001b[43mby\u001b[49m\u001b[43m,\u001b[49m\u001b[43m \u001b[49m\u001b[38;5;124;43m\"\u001b[39;49m\u001b[38;5;124;43mvalue\u001b[39;49m\u001b[38;5;124;43m\"\u001b[39;49m\u001b[43m:\u001b[49m\u001b[43m \u001b[49m\u001b[43mvalue\u001b[49m\u001b[43m}\u001b[49m\u001b[43m)\u001b[49m[\u001b[38;5;124m\"\u001b[39m\u001b[38;5;124mvalue\u001b[39m\u001b[38;5;124m\"\u001b[39m]\n",
      "File \u001b[1;32mC:\\Neuer Ordner\\lib\\site-packages\\selenium\\webdriver\\remote\\webdriver.py:346\u001b[0m, in \u001b[0;36mWebDriver.execute\u001b[1;34m(self, driver_command, params)\u001b[0m\n\u001b[0;32m    344\u001b[0m response \u001b[38;5;241m=\u001b[39m \u001b[38;5;28mself\u001b[39m\u001b[38;5;241m.\u001b[39mcommand_executor\u001b[38;5;241m.\u001b[39mexecute(driver_command, params)\n\u001b[0;32m    345\u001b[0m \u001b[38;5;28;01mif\u001b[39;00m response:\n\u001b[1;32m--> 346\u001b[0m     \u001b[38;5;28;43mself\u001b[39;49m\u001b[38;5;241;43m.\u001b[39;49m\u001b[43merror_handler\u001b[49m\u001b[38;5;241;43m.\u001b[39;49m\u001b[43mcheck_response\u001b[49m\u001b[43m(\u001b[49m\u001b[43mresponse\u001b[49m\u001b[43m)\u001b[49m\n\u001b[0;32m    347\u001b[0m     response[\u001b[38;5;124m\"\u001b[39m\u001b[38;5;124mvalue\u001b[39m\u001b[38;5;124m\"\u001b[39m] \u001b[38;5;241m=\u001b[39m \u001b[38;5;28mself\u001b[39m\u001b[38;5;241m.\u001b[39m_unwrap_value(response\u001b[38;5;241m.\u001b[39mget(\u001b[38;5;124m\"\u001b[39m\u001b[38;5;124mvalue\u001b[39m\u001b[38;5;124m\"\u001b[39m, \u001b[38;5;28;01mNone\u001b[39;00m))\n\u001b[0;32m    348\u001b[0m     \u001b[38;5;28;01mreturn\u001b[39;00m response\n",
      "File \u001b[1;32mC:\\Neuer Ordner\\lib\\site-packages\\selenium\\webdriver\\remote\\errorhandler.py:245\u001b[0m, in \u001b[0;36mErrorHandler.check_response\u001b[1;34m(self, response)\u001b[0m\n\u001b[0;32m    243\u001b[0m         alert_text \u001b[38;5;241m=\u001b[39m value[\u001b[38;5;124m\"\u001b[39m\u001b[38;5;124malert\u001b[39m\u001b[38;5;124m\"\u001b[39m]\u001b[38;5;241m.\u001b[39mget(\u001b[38;5;124m\"\u001b[39m\u001b[38;5;124mtext\u001b[39m\u001b[38;5;124m\"\u001b[39m)\n\u001b[0;32m    244\u001b[0m     \u001b[38;5;28;01mraise\u001b[39;00m exception_class(message, screen, stacktrace, alert_text)  \u001b[38;5;66;03m# type: ignore[call-arg]  # mypy is not smart enough here\u001b[39;00m\n\u001b[1;32m--> 245\u001b[0m \u001b[38;5;28;01mraise\u001b[39;00m exception_class(message, screen, stacktrace)\n",
      "\u001b[1;31mInvalidSelectorException\u001b[0m: Message: invalid selector: Unable to locate an element with the xpath expression //*[@id=\"sel_camp\"]option[2] because of the following error:\nSyntaxError: Failed to execute 'evaluate' on 'Document': The string '//*[@id=\"sel_camp\"]option[2]' is not a valid XPath expression.\n  (Session info: chrome=114.0.5735.199); For documentation on this error, please visit: https://www.selenium.dev/documentation/webdriver/troubleshooting/errors#invalid-selector-exception\nStacktrace:\nBacktrace:\n\tGetHandleVerifier [0x00A9A813+48355]\n\t(No symbol) [0x00A2C4B1]\n\t(No symbol) [0x00935358]\n\t(No symbol) [0x009387A1]\n\t(No symbol) [0x009399E1]\n\t(No symbol) [0x00939A80]\n\t(No symbol) [0x0096061C]\n\t(No symbol) [0x00960B3B]\n\t(No symbol) [0x0098E232]\n\t(No symbol) [0x0097A784]\n\t(No symbol) [0x0098C922]\n\t(No symbol) [0x0097A536]\n\t(No symbol) [0x009582DC]\n\t(No symbol) [0x009593DD]\n\tGetHandleVerifier [0x00CFAABD+2539405]\n\tGetHandleVerifier [0x00D3A78F+2800735]\n\tGetHandleVerifier [0x00D3456C+2775612]\n\tGetHandleVerifier [0x00B251E0+616112]\n\t(No symbol) [0x00A35F8C]\n\t(No symbol) [0x00A32328]\n\t(No symbol) [0x00A3240B]\n\t(No symbol) [0x00A24FF7]\n\tBaseThreadInitThunk [0x758A7D59+25]\n\tRtlInitializeExceptionChain [0x7747B79B+107]\n\tRtlClearBits [0x7747B71F+191]\n"
     ]
    }
   ],
   "source": [
    "sugang_url = 'https://mportal.cau.ac.kr/std/usk/sUskSif001/search.do'\n",
    "driver = webdriver.Chrome()\n",
    "driver.get(sugang_url)\n",
    "time.sleep(3)\n",
    "\n",
    "driver.find_element(By.XPATH, '//*[@id=\"sel_year\"]/option[2]').click()  # 2022년\n",
    "driver.find_element(By.XPATH, '//*[@id=\"sel_course\"]').click()          # 학부\n",
    "\n",
    "for s in range(1,4):      # 학기\n",
    "       if s == 1 or s == 3:   # 계절학기 제외\n",
    "            driver.find_element(By.XPATH, '//*[@id=\"sel_shtm\"]/option['+str(s)+']').click()  # string\n",
    "            print('//*[@id=\"sel_shtm\"]/option['+str(s)+']')\n",
    "            for c in range(2,4):  # 캠퍼스\n",
    "                driver.find_element(By.XPATH, '//*[@id=\"sel_camp\"]option['+str(c)+']').click()"
   ]
  },
  {
   "cell_type": "markdown",
   "id": "f52a0c2f",
   "metadata": {},
   "source": [
    "# 변수 이름 추가 설정 & range `len()`으로 끝까지"
   ]
  },
  {
   "cell_type": "code",
   "execution_count": 63,
   "id": "09eed076",
   "metadata": {},
   "outputs": [
    {
     "ename": "NameError",
     "evalue": "name 'end_value' is not defined",
     "output_type": "error",
     "traceback": [
      "\u001b[1;31m---------------------------------------------------------------------------\u001b[0m",
      "\u001b[1;31mNameError\u001b[0m                                 Traceback (most recent call last)",
      "Cell \u001b[1;32mIn[63], line 25\u001b[0m\n\u001b[0;32m     22\u001b[0m camp_option \u001b[38;5;241m=\u001b[39m driver\u001b[38;5;241m.\u001b[39mfind_element(By\u001b[38;5;241m.\u001b[39mXPATH, \u001b[38;5;124m'\u001b[39m\u001b[38;5;124m//*[@id=\u001b[39m\u001b[38;5;124m\"\u001b[39m\u001b[38;5;124msel_camp\u001b[39m\u001b[38;5;124m\"\u001b[39m\u001b[38;5;124m]/option[\u001b[39m\u001b[38;5;124m'\u001b[39m \u001b[38;5;241m+\u001b[39m \u001b[38;5;28mstr\u001b[39m(c) \u001b[38;5;241m+\u001b[39m \u001b[38;5;124m'\u001b[39m\u001b[38;5;124m]\u001b[39m\u001b[38;5;124m'\u001b[39m)\n\u001b[0;32m     23\u001b[0m camp_option\u001b[38;5;241m.\u001b[39mclick()\n\u001b[1;32m---> 25\u001b[0m \u001b[38;5;28;01mfor\u001b[39;00m d \u001b[38;5;129;01min\u001b[39;00m \u001b[38;5;28mrange\u001b[39m(\u001b[38;5;241m3\u001b[39m, \u001b[43mend_value\u001b[49m \u001b[38;5;241m+\u001b[39m \u001b[38;5;241m1\u001b[39m):  \u001b[38;5;66;03m# 단과대 (~끝)\u001b[39;00m\n\u001b[0;32m     26\u001b[0m     \u001b[38;5;66;03m# 단과대 선택\u001b[39;00m\n\u001b[0;32m     27\u001b[0m     colg_option \u001b[38;5;241m=\u001b[39m driver\u001b[38;5;241m.\u001b[39mfind_element(By\u001b[38;5;241m.\u001b[39mXPATH, \u001b[38;5;124m'\u001b[39m\u001b[38;5;124m//*[@id=\u001b[39m\u001b[38;5;124m\"\u001b[39m\u001b[38;5;124msel_colg\u001b[39m\u001b[38;5;124m\"\u001b[39m\u001b[38;5;124m]/option[\u001b[39m\u001b[38;5;124m'\u001b[39m \u001b[38;5;241m+\u001b[39m \u001b[38;5;28mstr\u001b[39m(d) \u001b[38;5;241m+\u001b[39m \u001b[38;5;124m'\u001b[39m\u001b[38;5;124m]\u001b[39m\u001b[38;5;124m'\u001b[39m)\n\u001b[0;32m     28\u001b[0m     colg_option\u001b[38;5;241m.\u001b[39mclick()\n",
      "\u001b[1;31mNameError\u001b[0m: name 'end_value' is not defined"
     ]
    }
   ],
   "source": [
    "sugang_url = 'https://mportal.cau.ac.kr/std/usk/sUskSif001/search.do'\n",
    "driver = webdriver.Chrome()\n",
    "driver.get(sugang_url)\n",
    "time.sleep(3)\n",
    "\n",
    "# 2022년 \n",
    "year_option = driver.find_element(By.XPATH, '//*[@id=\"sel_year\"]/option[2]')\n",
    "year_option.click()\n",
    "\n",
    "# 학부 \n",
    "course_option = driver.find_element(By.XPATH, '//*[@id=\"sel_course\"]')\n",
    "course_option.click()\n",
    "\n",
    "for s in range(1, 4):  # 학기\n",
    "    if s == 1 or s == 3:\n",
    "        # 학기 선택\n",
    "        shtm_option = driver.find_element(By.XPATH, '//*[@id=\"sel_shtm\"]/option[' + str(s) + ']')\n",
    "        shtm_option.click()\n",
    "        \n",
    "        for c in range(2, 4):  # 캠퍼스\n",
    "            # 캠퍼스 선택\n",
    "            camp_option = driver.find_element(By.XPATH, '//*[@id=\"sel_camp\"]/option[' + str(c) + ']')\n",
    "            camp_option.click()\n",
    "\n",
    "            for d in range(3, end_value + 1):  # 단과대\n",
    "                # 단과대 선택\n",
    "                colg_option = driver.find_element(By.XPATH, '//*[@id=\"sel_colg\"]/option[' + str(d) + ']')\n",
    "                colg_option.click()\n",
    "\n",
    "                for m in range(2, end_value + 1):  # 학과(부)/전공/영역\n",
    "                    # 학과(부)/전공/영역 선택\n",
    "                    sust_option = driver.find_element(By.XPATH, '//*[@id=\"sel_sust\"]/option[' + str(m) + ']')\n",
    "                    sust_option.click()\n",
    "\n",
    "                    print('//*[@id=\"sel_sust\"]/option[' + str(m) + ']')\n",
    "\n",
    "                    button = driver.find_element(By.XPATH, '//*[@id=\"nbContext\"]/div[2]/div/div[1]/section[1]/div[2]/div/div/button')\n",
    "                    button.click()"
   ]
  },
  {
   "cell_type": "code",
   "execution_count": 64,
   "id": "22cdb2ee",
   "metadata": {},
   "outputs": [
    {
     "ename": "NoSuchElementException",
     "evalue": "Message: no such element: Unable to locate element: {\"method\":\"xpath\",\"selector\":\"//*[@id=\"sel_sust\"]/option[2]\"}\n  (Session info: chrome=114.0.5735.199); For documentation on this error, please visit: https://www.selenium.dev/documentation/webdriver/troubleshooting/errors#no-such-element-exception\nStacktrace:\nBacktrace:\n\tGetHandleVerifier [0x00A9A813+48355]\n\t(No symbol) [0x00A2C4B1]\n\t(No symbol) [0x00935358]\n\t(No symbol) [0x009609A5]\n\t(No symbol) [0x00960B3B]\n\t(No symbol) [0x0098E232]\n\t(No symbol) [0x0097A784]\n\t(No symbol) [0x0098C922]\n\t(No symbol) [0x0097A536]\n\t(No symbol) [0x009582DC]\n\t(No symbol) [0x009593DD]\n\tGetHandleVerifier [0x00CFAABD+2539405]\n\tGetHandleVerifier [0x00D3A78F+2800735]\n\tGetHandleVerifier [0x00D3456C+2775612]\n\tGetHandleVerifier [0x00B251E0+616112]\n\t(No symbol) [0x00A35F8C]\n\t(No symbol) [0x00A32328]\n\t(No symbol) [0x00A3240B]\n\t(No symbol) [0x00A24FF7]\n\tBaseThreadInitThunk [0x758A7D59+25]\n\tRtlInitializeExceptionChain [0x7747B79B+107]\n\tRtlClearBits [0x7747B71F+191]\n",
     "output_type": "error",
     "traceback": [
      "\u001b[1;31m---------------------------------------------------------------------------\u001b[0m",
      "\u001b[1;31mNoSuchElementException\u001b[0m                    Traceback (most recent call last)",
      "Cell \u001b[1;32mIn[64], line 32\u001b[0m\n\u001b[0;32m     28\u001b[0m colg_option\u001b[38;5;241m.\u001b[39mclick()\n\u001b[0;32m     30\u001b[0m \u001b[38;5;28;01mfor\u001b[39;00m m \u001b[38;5;129;01min\u001b[39;00m \u001b[38;5;28mrange\u001b[39m(\u001b[38;5;241m2\u001b[39m, \u001b[38;5;241m37\u001b[39m):  \u001b[38;5;66;03m# 학과(부)/전공/영역\u001b[39;00m\n\u001b[0;32m     31\u001b[0m     \u001b[38;5;66;03m# 학과(부)/전공/영역 선택\u001b[39;00m\n\u001b[1;32m---> 32\u001b[0m     sust_option \u001b[38;5;241m=\u001b[39m \u001b[43mdriver\u001b[49m\u001b[38;5;241;43m.\u001b[39;49m\u001b[43mfind_element\u001b[49m\u001b[43m(\u001b[49m\u001b[43mBy\u001b[49m\u001b[38;5;241;43m.\u001b[39;49m\u001b[43mXPATH\u001b[49m\u001b[43m,\u001b[49m\u001b[43m \u001b[49m\u001b[38;5;124;43m'\u001b[39;49m\u001b[38;5;124;43m//*[@id=\u001b[39;49m\u001b[38;5;124;43m\"\u001b[39;49m\u001b[38;5;124;43msel_sust\u001b[39;49m\u001b[38;5;124;43m\"\u001b[39;49m\u001b[38;5;124;43m]/option[\u001b[39;49m\u001b[38;5;124;43m'\u001b[39;49m\u001b[43m \u001b[49m\u001b[38;5;241;43m+\u001b[39;49m\u001b[43m \u001b[49m\u001b[38;5;28;43mstr\u001b[39;49m\u001b[43m(\u001b[49m\u001b[43mm\u001b[49m\u001b[43m)\u001b[49m\u001b[43m \u001b[49m\u001b[38;5;241;43m+\u001b[39;49m\u001b[43m \u001b[49m\u001b[38;5;124;43m'\u001b[39;49m\u001b[38;5;124;43m]\u001b[39;49m\u001b[38;5;124;43m'\u001b[39;49m\u001b[43m)\u001b[49m\n\u001b[0;32m     33\u001b[0m     sust_option\u001b[38;5;241m.\u001b[39mclick()\n\u001b[0;32m     35\u001b[0m     \u001b[38;5;28mprint\u001b[39m(\u001b[38;5;124m'\u001b[39m\u001b[38;5;124m//*[@id=\u001b[39m\u001b[38;5;124m\"\u001b[39m\u001b[38;5;124msel_sust\u001b[39m\u001b[38;5;124m\"\u001b[39m\u001b[38;5;124m]/option[\u001b[39m\u001b[38;5;124m'\u001b[39m \u001b[38;5;241m+\u001b[39m \u001b[38;5;28mstr\u001b[39m(m) \u001b[38;5;241m+\u001b[39m \u001b[38;5;124m'\u001b[39m\u001b[38;5;124m]\u001b[39m\u001b[38;5;124m'\u001b[39m)\n",
      "File \u001b[1;32mC:\\Neuer Ordner\\lib\\site-packages\\selenium\\webdriver\\remote\\webdriver.py:740\u001b[0m, in \u001b[0;36mWebDriver.find_element\u001b[1;34m(self, by, value)\u001b[0m\n\u001b[0;32m    737\u001b[0m     by \u001b[38;5;241m=\u001b[39m By\u001b[38;5;241m.\u001b[39mCSS_SELECTOR\n\u001b[0;32m    738\u001b[0m     value \u001b[38;5;241m=\u001b[39m \u001b[38;5;124mf\u001b[39m\u001b[38;5;124m'\u001b[39m\u001b[38;5;124m[name=\u001b[39m\u001b[38;5;124m\"\u001b[39m\u001b[38;5;132;01m{\u001b[39;00mvalue\u001b[38;5;132;01m}\u001b[39;00m\u001b[38;5;124m\"\u001b[39m\u001b[38;5;124m]\u001b[39m\u001b[38;5;124m'\u001b[39m\n\u001b[1;32m--> 740\u001b[0m \u001b[38;5;28;01mreturn\u001b[39;00m \u001b[38;5;28;43mself\u001b[39;49m\u001b[38;5;241;43m.\u001b[39;49m\u001b[43mexecute\u001b[49m\u001b[43m(\u001b[49m\u001b[43mCommand\u001b[49m\u001b[38;5;241;43m.\u001b[39;49m\u001b[43mFIND_ELEMENT\u001b[49m\u001b[43m,\u001b[49m\u001b[43m \u001b[49m\u001b[43m{\u001b[49m\u001b[38;5;124;43m\"\u001b[39;49m\u001b[38;5;124;43musing\u001b[39;49m\u001b[38;5;124;43m\"\u001b[39;49m\u001b[43m:\u001b[49m\u001b[43m \u001b[49m\u001b[43mby\u001b[49m\u001b[43m,\u001b[49m\u001b[43m \u001b[49m\u001b[38;5;124;43m\"\u001b[39;49m\u001b[38;5;124;43mvalue\u001b[39;49m\u001b[38;5;124;43m\"\u001b[39;49m\u001b[43m:\u001b[49m\u001b[43m \u001b[49m\u001b[43mvalue\u001b[49m\u001b[43m}\u001b[49m\u001b[43m)\u001b[49m[\u001b[38;5;124m\"\u001b[39m\u001b[38;5;124mvalue\u001b[39m\u001b[38;5;124m\"\u001b[39m]\n",
      "File \u001b[1;32mC:\\Neuer Ordner\\lib\\site-packages\\selenium\\webdriver\\remote\\webdriver.py:346\u001b[0m, in \u001b[0;36mWebDriver.execute\u001b[1;34m(self, driver_command, params)\u001b[0m\n\u001b[0;32m    344\u001b[0m response \u001b[38;5;241m=\u001b[39m \u001b[38;5;28mself\u001b[39m\u001b[38;5;241m.\u001b[39mcommand_executor\u001b[38;5;241m.\u001b[39mexecute(driver_command, params)\n\u001b[0;32m    345\u001b[0m \u001b[38;5;28;01mif\u001b[39;00m response:\n\u001b[1;32m--> 346\u001b[0m     \u001b[38;5;28;43mself\u001b[39;49m\u001b[38;5;241;43m.\u001b[39;49m\u001b[43merror_handler\u001b[49m\u001b[38;5;241;43m.\u001b[39;49m\u001b[43mcheck_response\u001b[49m\u001b[43m(\u001b[49m\u001b[43mresponse\u001b[49m\u001b[43m)\u001b[49m\n\u001b[0;32m    347\u001b[0m     response[\u001b[38;5;124m\"\u001b[39m\u001b[38;5;124mvalue\u001b[39m\u001b[38;5;124m\"\u001b[39m] \u001b[38;5;241m=\u001b[39m \u001b[38;5;28mself\u001b[39m\u001b[38;5;241m.\u001b[39m_unwrap_value(response\u001b[38;5;241m.\u001b[39mget(\u001b[38;5;124m\"\u001b[39m\u001b[38;5;124mvalue\u001b[39m\u001b[38;5;124m\"\u001b[39m, \u001b[38;5;28;01mNone\u001b[39;00m))\n\u001b[0;32m    348\u001b[0m     \u001b[38;5;28;01mreturn\u001b[39;00m response\n",
      "File \u001b[1;32mC:\\Neuer Ordner\\lib\\site-packages\\selenium\\webdriver\\remote\\errorhandler.py:245\u001b[0m, in \u001b[0;36mErrorHandler.check_response\u001b[1;34m(self, response)\u001b[0m\n\u001b[0;32m    243\u001b[0m         alert_text \u001b[38;5;241m=\u001b[39m value[\u001b[38;5;124m\"\u001b[39m\u001b[38;5;124malert\u001b[39m\u001b[38;5;124m\"\u001b[39m]\u001b[38;5;241m.\u001b[39mget(\u001b[38;5;124m\"\u001b[39m\u001b[38;5;124mtext\u001b[39m\u001b[38;5;124m\"\u001b[39m)\n\u001b[0;32m    244\u001b[0m     \u001b[38;5;28;01mraise\u001b[39;00m exception_class(message, screen, stacktrace, alert_text)  \u001b[38;5;66;03m# type: ignore[call-arg]  # mypy is not smart enough here\u001b[39;00m\n\u001b[1;32m--> 245\u001b[0m \u001b[38;5;28;01mraise\u001b[39;00m exception_class(message, screen, stacktrace)\n",
      "\u001b[1;31mNoSuchElementException\u001b[0m: Message: no such element: Unable to locate element: {\"method\":\"xpath\",\"selector\":\"//*[@id=\"sel_sust\"]/option[2]\"}\n  (Session info: chrome=114.0.5735.199); For documentation on this error, please visit: https://www.selenium.dev/documentation/webdriver/troubleshooting/errors#no-such-element-exception\nStacktrace:\nBacktrace:\n\tGetHandleVerifier [0x00A9A813+48355]\n\t(No symbol) [0x00A2C4B1]\n\t(No symbol) [0x00935358]\n\t(No symbol) [0x009609A5]\n\t(No symbol) [0x00960B3B]\n\t(No symbol) [0x0098E232]\n\t(No symbol) [0x0097A784]\n\t(No symbol) [0x0098C922]\n\t(No symbol) [0x0097A536]\n\t(No symbol) [0x009582DC]\n\t(No symbol) [0x009593DD]\n\tGetHandleVerifier [0x00CFAABD+2539405]\n\tGetHandleVerifier [0x00D3A78F+2800735]\n\tGetHandleVerifier [0x00D3456C+2775612]\n\tGetHandleVerifier [0x00B251E0+616112]\n\t(No symbol) [0x00A35F8C]\n\t(No symbol) [0x00A32328]\n\t(No symbol) [0x00A3240B]\n\t(No symbol) [0x00A24FF7]\n\tBaseThreadInitThunk [0x758A7D59+25]\n\tRtlInitializeExceptionChain [0x7747B79B+107]\n\tRtlClearBits [0x7747B71F+191]\n"
     ]
    }
   ],
   "source": [
    "sugang_url = 'https://mportal.cau.ac.kr/std/usk/sUskSif001/search.do'\n",
    "driver = webdriver.Chrome()\n",
    "driver.get(sugang_url)\n",
    "time.sleep(3)\n",
    "\n",
    "# 2022년 \n",
    "year_option = driver.find_element(By.XPATH, '//*[@id=\"sel_year\"]/option[2]')\n",
    "year_option.click()\n",
    "\n",
    "# 학부 \n",
    "course_option = driver.find_element(By.XPATH, '//*[@id=\"sel_course\"]')\n",
    "course_option.click()\n",
    "\n",
    "for s in range(1, 4):  # 학기\n",
    "    if s == 1 or s == 3:\n",
    "        # 학기 선택\n",
    "        shtm_option = driver.find_element(By.XPATH, '//*[@id=\"sel_shtm\"]/option[' + str(s) + ']')\n",
    "        shtm_option.click()\n",
    "        \n",
    "        for c in range(2, 4):  # 캠퍼스\n",
    "            # 캠퍼스 선택\n",
    "            camp_option = driver.find_element(By.XPATH, '//*[@id=\"sel_camp\"]/option[' + str(c) + ']')\n",
    "            camp_option.click()\n",
    "\n",
    "            for d in range(3, 23):  # 단과대\n",
    "                # 단과대 선택\n",
    "                colg_option = driver.find_element(By.XPATH, '//*[@id=\"sel_colg\"]/option[' + str(d) + ']')\n",
    "                colg_option.click()\n",
    "\n",
    "                for m in range(2, 37):  # 학과(부)/전공/영역\n",
    "                    # 학과(부)/전공/영역 선택\n",
    "                    sust_option = driver.find_element(By.XPATH, '//*[@id=\"sel_sust\"]/option[' + str(m) + ']')\n",
    "                    sust_option.click()\n",
    "\n",
    "                    print('//*[@id=\"sel_sust\"]/option[' + str(m) + ']')\n",
    "\n",
    "                    button = driver.find_element(By.XPATH, '//*[@id=\"nbContext\"]/div[2]/div/div[1]/section[1]/div[2]/div/div/button')\n",
    "                    button.click()"
   ]
  },
  {
   "cell_type": "code",
   "execution_count": 78,
   "id": "fefb86ed",
   "metadata": {},
   "outputs": [
    {
     "ename": "NoSuchWindowException",
     "evalue": "Message: no such window: target window already closed\nfrom unknown error: web view not found\n  (Session info: chrome=114.0.5735.199)\nStacktrace:\nBacktrace:\n\tGetHandleVerifier [0x00A9A813+48355]\n\t(No symbol) [0x00A2C4B1]\n\t(No symbol) [0x00935358]\n\t(No symbol) [0x0091D293]\n\t(No symbol) [0x0097E37B]\n\t(No symbol) [0x0098C473]\n\t(No symbol) [0x0097A536]\n\t(No symbol) [0x009582DC]\n\t(No symbol) [0x009593DD]\n\tGetHandleVerifier [0x00CFAABD+2539405]\n\tGetHandleVerifier [0x00D3A78F+2800735]\n\tGetHandleVerifier [0x00D3456C+2775612]\n\tGetHandleVerifier [0x00B251E0+616112]\n\t(No symbol) [0x00A35F8C]\n\t(No symbol) [0x00A32328]\n\t(No symbol) [0x00A3240B]\n\t(No symbol) [0x00A24FF7]\n\tBaseThreadInitThunk [0x758A7D59+25]\n\tRtlInitializeExceptionChain [0x7747B79B+107]\n\tRtlClearBits [0x7747B71F+191]\n",
     "output_type": "error",
     "traceback": [
      "\u001b[1;31m---------------------------------------------------------------------------\u001b[0m",
      "\u001b[1;31mNoSuchWindowException\u001b[0m                     Traceback (most recent call last)",
      "Cell \u001b[1;32mIn[78], line 7\u001b[0m\n\u001b[0;32m      4\u001b[0m time\u001b[38;5;241m.\u001b[39msleep(\u001b[38;5;241m3\u001b[39m)\n\u001b[0;32m      6\u001b[0m \u001b[38;5;66;03m# 2022년 \u001b[39;00m\n\u001b[1;32m----> 7\u001b[0m year_option \u001b[38;5;241m=\u001b[39m \u001b[43mdriver\u001b[49m\u001b[38;5;241;43m.\u001b[39;49m\u001b[43mfind_element\u001b[49m\u001b[43m(\u001b[49m\u001b[43mBy\u001b[49m\u001b[38;5;241;43m.\u001b[39;49m\u001b[43mXPATH\u001b[49m\u001b[43m,\u001b[49m\u001b[43m \u001b[49m\u001b[38;5;124;43m'\u001b[39;49m\u001b[38;5;124;43m//*[@id=\u001b[39;49m\u001b[38;5;124;43m\"\u001b[39;49m\u001b[38;5;124;43msel_year\u001b[39;49m\u001b[38;5;124;43m\"\u001b[39;49m\u001b[38;5;124;43m]/option[2]\u001b[39;49m\u001b[38;5;124;43m'\u001b[39;49m\u001b[43m)\u001b[49m\n\u001b[0;32m      8\u001b[0m year_option\u001b[38;5;241m.\u001b[39mclick()\n\u001b[0;32m     10\u001b[0m \u001b[38;5;66;03m# 학부 \u001b[39;00m\n",
      "File \u001b[1;32mC:\\Neuer Ordner\\lib\\site-packages\\selenium\\webdriver\\remote\\webdriver.py:740\u001b[0m, in \u001b[0;36mWebDriver.find_element\u001b[1;34m(self, by, value)\u001b[0m\n\u001b[0;32m    737\u001b[0m     by \u001b[38;5;241m=\u001b[39m By\u001b[38;5;241m.\u001b[39mCSS_SELECTOR\n\u001b[0;32m    738\u001b[0m     value \u001b[38;5;241m=\u001b[39m \u001b[38;5;124mf\u001b[39m\u001b[38;5;124m'\u001b[39m\u001b[38;5;124m[name=\u001b[39m\u001b[38;5;124m\"\u001b[39m\u001b[38;5;132;01m{\u001b[39;00mvalue\u001b[38;5;132;01m}\u001b[39;00m\u001b[38;5;124m\"\u001b[39m\u001b[38;5;124m]\u001b[39m\u001b[38;5;124m'\u001b[39m\n\u001b[1;32m--> 740\u001b[0m \u001b[38;5;28;01mreturn\u001b[39;00m \u001b[38;5;28;43mself\u001b[39;49m\u001b[38;5;241;43m.\u001b[39;49m\u001b[43mexecute\u001b[49m\u001b[43m(\u001b[49m\u001b[43mCommand\u001b[49m\u001b[38;5;241;43m.\u001b[39;49m\u001b[43mFIND_ELEMENT\u001b[49m\u001b[43m,\u001b[49m\u001b[43m \u001b[49m\u001b[43m{\u001b[49m\u001b[38;5;124;43m\"\u001b[39;49m\u001b[38;5;124;43musing\u001b[39;49m\u001b[38;5;124;43m\"\u001b[39;49m\u001b[43m:\u001b[49m\u001b[43m \u001b[49m\u001b[43mby\u001b[49m\u001b[43m,\u001b[49m\u001b[43m \u001b[49m\u001b[38;5;124;43m\"\u001b[39;49m\u001b[38;5;124;43mvalue\u001b[39;49m\u001b[38;5;124;43m\"\u001b[39;49m\u001b[43m:\u001b[49m\u001b[43m \u001b[49m\u001b[43mvalue\u001b[49m\u001b[43m}\u001b[49m\u001b[43m)\u001b[49m[\u001b[38;5;124m\"\u001b[39m\u001b[38;5;124mvalue\u001b[39m\u001b[38;5;124m\"\u001b[39m]\n",
      "File \u001b[1;32mC:\\Neuer Ordner\\lib\\site-packages\\selenium\\webdriver\\remote\\webdriver.py:346\u001b[0m, in \u001b[0;36mWebDriver.execute\u001b[1;34m(self, driver_command, params)\u001b[0m\n\u001b[0;32m    344\u001b[0m response \u001b[38;5;241m=\u001b[39m \u001b[38;5;28mself\u001b[39m\u001b[38;5;241m.\u001b[39mcommand_executor\u001b[38;5;241m.\u001b[39mexecute(driver_command, params)\n\u001b[0;32m    345\u001b[0m \u001b[38;5;28;01mif\u001b[39;00m response:\n\u001b[1;32m--> 346\u001b[0m     \u001b[38;5;28;43mself\u001b[39;49m\u001b[38;5;241;43m.\u001b[39;49m\u001b[43merror_handler\u001b[49m\u001b[38;5;241;43m.\u001b[39;49m\u001b[43mcheck_response\u001b[49m\u001b[43m(\u001b[49m\u001b[43mresponse\u001b[49m\u001b[43m)\u001b[49m\n\u001b[0;32m    347\u001b[0m     response[\u001b[38;5;124m\"\u001b[39m\u001b[38;5;124mvalue\u001b[39m\u001b[38;5;124m\"\u001b[39m] \u001b[38;5;241m=\u001b[39m \u001b[38;5;28mself\u001b[39m\u001b[38;5;241m.\u001b[39m_unwrap_value(response\u001b[38;5;241m.\u001b[39mget(\u001b[38;5;124m\"\u001b[39m\u001b[38;5;124mvalue\u001b[39m\u001b[38;5;124m\"\u001b[39m, \u001b[38;5;28;01mNone\u001b[39;00m))\n\u001b[0;32m    348\u001b[0m     \u001b[38;5;28;01mreturn\u001b[39;00m response\n",
      "File \u001b[1;32mC:\\Neuer Ordner\\lib\\site-packages\\selenium\\webdriver\\remote\\errorhandler.py:245\u001b[0m, in \u001b[0;36mErrorHandler.check_response\u001b[1;34m(self, response)\u001b[0m\n\u001b[0;32m    243\u001b[0m         alert_text \u001b[38;5;241m=\u001b[39m value[\u001b[38;5;124m\"\u001b[39m\u001b[38;5;124malert\u001b[39m\u001b[38;5;124m\"\u001b[39m]\u001b[38;5;241m.\u001b[39mget(\u001b[38;5;124m\"\u001b[39m\u001b[38;5;124mtext\u001b[39m\u001b[38;5;124m\"\u001b[39m)\n\u001b[0;32m    244\u001b[0m     \u001b[38;5;28;01mraise\u001b[39;00m exception_class(message, screen, stacktrace, alert_text)  \u001b[38;5;66;03m# type: ignore[call-arg]  # mypy is not smart enough here\u001b[39;00m\n\u001b[1;32m--> 245\u001b[0m \u001b[38;5;28;01mraise\u001b[39;00m exception_class(message, screen, stacktrace)\n",
      "\u001b[1;31mNoSuchWindowException\u001b[0m: Message: no such window: target window already closed\nfrom unknown error: web view not found\n  (Session info: chrome=114.0.5735.199)\nStacktrace:\nBacktrace:\n\tGetHandleVerifier [0x00A9A813+48355]\n\t(No symbol) [0x00A2C4B1]\n\t(No symbol) [0x00935358]\n\t(No symbol) [0x0091D293]\n\t(No symbol) [0x0097E37B]\n\t(No symbol) [0x0098C473]\n\t(No symbol) [0x0097A536]\n\t(No symbol) [0x009582DC]\n\t(No symbol) [0x009593DD]\n\tGetHandleVerifier [0x00CFAABD+2539405]\n\tGetHandleVerifier [0x00D3A78F+2800735]\n\tGetHandleVerifier [0x00D3456C+2775612]\n\tGetHandleVerifier [0x00B251E0+616112]\n\t(No symbol) [0x00A35F8C]\n\t(No symbol) [0x00A32328]\n\t(No symbol) [0x00A3240B]\n\t(No symbol) [0x00A24FF7]\n\tBaseThreadInitThunk [0x758A7D59+25]\n\tRtlInitializeExceptionChain [0x7747B79B+107]\n\tRtlClearBits [0x7747B71F+191]\n"
     ]
    }
   ],
   "source": [
    "sugang_url = 'https://mportal.cau.ac.kr/std/usk/sUskSif001/search.do'\n",
    "driver = webdriver.Chrome()\n",
    "driver.get(sugang_url)\n",
    "time.sleep(3)\n",
    "\n",
    "# 2022년 \n",
    "year_option = driver.find_element(By.XPATH, '//*[@id=\"sel_year\"]/option[2]')\n",
    "year_option.click()\n",
    "\n",
    "# 학부 \n",
    "course_option = driver.find_element(By.XPATH, '//*[@id=\"sel_course\"]')\n",
    "course_option.click()\n",
    "\n",
    "for s in range(1, 4):  # 학기\n",
    "    if s == 1 or s == 3:\n",
    "        # 학기 선택\n",
    "        shtm_option = driver.find_element(By.XPATH, '//*[@id=\"sel_shtm\"]/option[' + str(s) + ']')\n",
    "        shtm_option.click()\n",
    "        \n",
    "        for c in range(2, 4):  # 캠퍼스\n",
    "            # 캠퍼스 선택\n",
    "            camp_option = driver.find_element(By.XPATH, '//*[@id=\"sel_camp\"]/option[' + str(c) + ']')\n",
    "            camp_option.click()\n",
    "\n",
    "            for d in range(3, len(driver.find_elements(By.XPATH, '//*[@id=\"sel_colg\"]/option'))):   # leght로 해결\n",
    "                driver.find_element(By.XPATH, '//*[@id=\"sel_colg\"]/option[' + str(d) + ']').click()  # 단과대\n",
    "\n",
    "                for i in range(2, len(driver.find_elements(By.XPATH, '//*[@id=\"sel_sust\"]/option'))):\n",
    "                    driver.find_element(By.XPATH, '//*[@id=\"sel_sust\"]/option[' + str(i) + ']').click()\n",
    "\n",
    "                    print('//*[@id=\"sel_sust\"]/option[' + str(m) + ']')\n",
    "\n",
    "                    driver.find_element(By.XPATH, '//*[@id=\"nbContext\"]/div[2]/div/div[1]/section[1]/div[2]/div/div/button')\n"
   ]
  },
  {
   "cell_type": "markdown",
   "id": "601626b5",
   "metadata": {},
   "source": [
    "# `no such element` 막기 위해 `time.sleep` 추가"
   ]
  },
  {
   "cell_type": "code",
   "execution_count": null,
   "id": "6eaba40f",
   "metadata": {},
   "outputs": [],
   "source": [
    "from bs4 import BeautifulSoup\n",
    "from selenium import webdriver\n",
    "from selenium.webdriver.common.by import By\n",
    "import pandas as pd\n",
    "import time\n",
    "\n",
    "table_data = []\n",
    "\n",
    "sugang_url = 'https://mportal.cau.ac.kr/std/usk/sUskSif001/search.do'\n",
    "driver = webdriver.Chrome()\n",
    "driver.get(sugang_url)\n",
    "time.sleep(3)\n",
    "\n",
    "# 2022년 \n",
    "year_option = driver.find_element(By.XPATH, '//*[@id=\"sel_year\"]/option[2]')\n",
    "year_option.click()\n",
    "\n",
    "# 학부 \n",
    "course_option = driver.find_element(By.XPATH, '//*[@id=\"sel_course\"]')\n",
    "course_option.click()\n",
    "\n",
    "for s in range(1, 4):  # 학기\n",
    "    if s == 1 or s == 3:\n",
    "        # 학기 선택\n",
    "        shtm_option = driver.find_element(By.XPATH, '//*[@id=\"sel_shtm\"]/option[' + str(s) + ']')\n",
    "        shtm_option.click()\n",
    "        time.sleep(1)  \n",
    "        \n",
    "        for c in range(2, 4):  # 캠퍼스\n",
    "            # 캠퍼스 선택\n",
    "            camp_option = driver.find_element(By.XPATH, '//*[@id=\"sel_camp\"]/option[' + str(c) + ']')\n",
    "            camp_option.click()\n",
    "            time.sleep(1)  \n",
    "\n",
    "            for d in range(3, len(driver.find_elements(By.XPATH, '//*[@id=\"sel_colg\"]/option'))+1):\n",
    "                # 단과대 선택\n",
    "                colg_option = driver.find_element(By.XPATH, '//*[@id=\"sel_colg\"]/option[' + str(d) + ']')\n",
    "                colg_option.click()\n",
    "                time.sleep(1)  \n",
    "                \n",
    "                for i in range(2, len(driver.find_elements(By.XPATH, '//*[@id=\"sel_sust\"]/option'))+1):\n",
    "                    # 학과(부)/전공/영역 선택\n",
    "                    sust_option = driver.find_element(By.XPATH, '//*[@id=\"sel_sust\"]/option[' + str(i) + ']')\n",
    "                    sust_option.click()\n",
    "                    time.sleep(0.1)  \n",
    "\n",
    "                    #print('//*[@id=\"sel_sust\"]/option[' + str(i) + ']')\n",
    "                    \n",
    "                    #request = requests.get('https://mportal.cau.ac.kr/std/usk/sUskSif001/search.do')\n",
    "                    #soup = BeautifulSoup(request.text, 'html.parser')\n",
    "                    #data = soup.find_all(\"div\", {'class':'sp-grid selectable'})\n",
    "                    \n",
    "                    # Click the 검색 button\n",
    "                    search_button = driver.find_element(By.XPATH, '//button[contains(text(), \"검색\")]')\n",
    "                    search_button.click()\n",
    "                    time.sleep(1)\n",
    "                        \n",
    "                    # table data\n",
    "                    soup = BeautifulSoup(driver.page_source, 'html.parser')\n",
    "                    data = soup.find_all(\"div\", {'class':'sp-grid selectable'})\n",
    "\n",
    "                    for row in data:\n",
    "                        row_data = []\n",
    "                        columns = row.find_all('span', class_='ng-scope')\n",
    "                        for column in columns:\n",
    "                            row_data.append(column.text.strip())\n",
    "                        table_data.append(row_data)\n",
    "                           \n",
    "# table data as DataFrame\n",
    "df = pd.DataFrame(data=table_data)\n",
    "print(df)"
   ]
  },
  {
   "cell_type": "code",
   "execution_count": 52,
   "id": "a09b1ae6",
   "metadata": {},
   "outputs": [
    {
     "name": "stdout",
     "output_type": "stream",
     "text": [
      "          대학      개설학과  학년  과정  이수구분   과목번호-분반             과목명 학점-시간 담당교수 폐강  \\\n",
      "0     대학(전체)            전체  학사    교양  28703-01           경제와사회   3-3  장선해      \n",
      "1     대학(전체)            전체  학사    교양  28703-01           경제와사회   3-3  손주현      \n",
      "2     대학(전체)            전체  학사    교양  28703-02           경제와사회   3-3  손주현      \n",
      "3     대학(전체)            전체  학사    교양  28703-02           경제와사회   3-3  김지영      \n",
      "4     대학(전체)            전체  학사    교양  28703-03           경제와사회   3-3  김지영      \n",
      "..       ...       ...  ..  ..   ...       ...             ...   ...  ... ..   \n",
      "173   자연과학대학       수학과   4  학사    전공  33675-01    금융수학 (영어A강의)   3-3  홍영훈      \n",
      "174   대학(전체)  금융공학융합전공   4  학사  전공필수  56606-02     금융인공지능실습(2)   3-3  김종현      \n",
      "175  소프트웨어대학   소프트웨어학부   4  학사    전공  50648-01           빅 데이터   3-3  김무철      \n",
      "176   경영경제대학    응용통계학과   4  학사    전공  21893-01  통계학세미나 (영어A강의)   3-3  김삼용      \n",
      "177  소프트웨어대학   소프트웨어학부   4  학사    전공  56122-01        패턴 인식 응용   3-3  박재화      \n",
      "\n",
      "                                                  강의시간 유연학기     비고 수업유형  \n",
      "0                    수1,2,3 / 310관(310관) B603호 <대형강의실>       핵심-도전       \n",
      "1                      화1,2,3 / 801관(중앙문화관) 205호 <강의실>       핵심-도전       \n",
      "2                      화6,7,8 / 801관(중앙문화관) 205호 <강의실>       핵심-도전       \n",
      "3                  목1,2,3 / 303관(303관(법학관)) 803호 <강의실>       핵심-도전       \n",
      "4                  목4,5,6 / 303관(303관(법학관)) 803호 <강의실>       핵심-도전       \n",
      "..                                                 ...  ...    ...  ...  \n",
      "173    월7 / 수7,8 / 102관(102관(약학대학 및 R&D센터)) 805호 <강의실>                   \n",
      "174                     목7,8,9 / 310관(310관) 412호 <강의실>        융합전공       \n",
      "175                  화5,6 / 목5 / 310관(310관) 726호 <강의실>        공학주제       \n",
      "176  화(10:30~11:45) / 목(10:30~11:45) / 310관(310관) 9...                   \n",
      "177      금4,5,6 / 208관(208관(제2공학관)) 213호 <SW교육 첨단강의실1>        공학주제       \n",
      "\n",
      "[178 rows x 14 columns]\n"
     ]
    }
   ],
   "source": [
    "# table data\n",
    "soup = BeautifulSoup(driver.page_source, 'html.parser')\n",
    "data = soup.find_all(\"div\", {'class':'sp-grid-data-row'})\n",
    "\n",
    "for row in data:\n",
    "    row_data = [span.text.strip() for span in row.find_all('span', class_='ng-binding ng-scope')]\n",
    "    table_data.append(row_data)\n",
    "                        \n",
    "                           \n",
    "# table data as DataFrame\n",
    "column_names = ['대학', '개설학과', '학년', '과정', '이수구분', '과목번호-분반', '과목명', '학점-시간', '담당교수', '폐강', '강의시간', '유연학기', '비고', '수업유형']\n",
    "df = pd.DataFrame(data=table_data, columns=column_names)\n",
    "print(df)"
   ]
  },
  {
   "cell_type": "markdown",
   "id": "a7f68c80",
   "metadata": {},
   "source": [
    "`'sp-grid-data-row'`는 테이블의 각 행(row)을 나타내는 `div` 요소의 클래스(class) 이름입니다. 이 클래스 이름은 해당 웹 페이지에서 테이블의 행을 식별하는 데 사용되는 클래스 이름일 수 있습니다. 클래스 이름은 웹 페이지의 HTML 구조와 스타일링에 따라 다를 수 있으며, 웹 개발자가 페이지를 디자인할 때 선택한 이름입니다.\n",
    "(각row마다 중복되게 있음)\n",
    "\n",
    "`'ng-binding ng-scope'`는 각 열(column)의 데이터를 나타내는 `span` 요소의 클래스(class) 이름입니다. `'ng-binding'`은 AngularJS와 같은 JavaScript 프레임워크를 사용하여 데이터를 바인딩할 때 자동으로 추가되는 클래스 이름입니다. `'ng-scope'` 클래스는 AngularJS의 스코프(scope)를 가리키는 클래스 이름입니다.\n",
    "\n",
    "따라서, 위의 코드에서는 `'sp-grid-data-row'` 클래스를 가진 `div` 요소를 찾아 테이블의 각 행을 나타내는 요소를 선택하고, 그 안에서 `'ng-binding ng-scope'` 클래스를 가진 `span` 요소를 찾아 열(column)의 데이터를 추출합니다. 이는 해당 웹 페이지의 HTML 구조와 스타일링에 맞춰진 선택자입니다."
   ]
  },
  {
   "cell_type": "markdown",
   "id": "d10bae15",
   "metadata": {},
   "source": [
    "```python\n",
    "print(len(table_data))  # 데이터의 row 수 출력\n",
    "print(len(table_data[0]))  # 데이터의 첫 번째 row의 column 수 출력\n",
    "```"
   ]
  },
  {
   "cell_type": "markdown",
   "id": "74174df1",
   "metadata": {},
   "source": [
    "`span.text.strip()`는 BeautifulSoup에서 선택한 요소(`span`)의 텍스트 내용을 반환하고, 앞뒤의 공백을 제거하는 역할을 합니다.\n",
    "\n",
    "여기서 `span.text`는 선택한 `span` 요소의 텍스트 내용을 가져옵니다. `strip()` 함수는 문자열의 앞뒤에 있는 공백을 제거합니다.\n",
    "\n",
    "예를 들어, `<span>Hello, World!</span>`라는 HTML 요소가 있다면 `span.text.strip()`는 `'Hello, World!'`를 반환합니다."
   ]
  },
  {
   "cell_type": "code",
   "execution_count": 64,
   "id": "6892385f",
   "metadata": {},
   "outputs": [
    {
     "name": "stdout",
     "output_type": "stream",
     "text": [
      "           대학   개설학과  학년  과정  이수구분   과목번호-분반                과목명 학점-시간 담당교수 폐강  \\\n",
      "0      대학(전체)         전체  학사    교양  28703-01              경제와사회   3-3  장선해      \n",
      "1      대학(전체)         전체  학사    교양  28703-01              경제와사회   3-3  손주현      \n",
      "2      대학(전체)         전체  학사    교양  28703-02              경제와사회   3-3  손주현      \n",
      "3      대학(전체)         전체  학사    교양  28703-02              경제와사회   3-3  김지영      \n",
      "4      대학(전체)         전체  학사    교양  28703-03              경제와사회   3-3  김지영      \n",
      "...       ...    ...  ..  ..   ...       ...                ...   ...  ... ..   \n",
      "18060  예술공학대학  예술공학부   3  학사  전공필수  56845-02      캡스톤 디자인 프로젝트Ⅰ   3-3  김윤지      \n",
      "18061  예술공학대학  예술공학부   3  학사  전공필수  56845-03      캡스톤 디자인 프로젝트Ⅰ   3-3  정재필      \n",
      "18062  예술공학대학  예술공학부   3  학사    전공  55403-01  피지컬컴퓨팅과제어 (영어A강의)   3-3  김윤지      \n",
      "18063  예술공학대학  예술공학부   3  학사    전공  55403-02  피지컬컴퓨팅과제어 (영어A강의)   3-3  김윤지      \n",
      "18064  예술공학대학  예술공학부   4  학사    전공  56084-01        이머시브 미디어 기술   3-3           \n",
      "\n",
      "                                                  강의시간 유연학기     비고 수업유형  \n",
      "0                    수1,2,3 / 310관(310관) B603호 <대형강의실>       핵심-도전       \n",
      "1                      화1,2,3 / 801관(중앙문화관) 205호 <강의실>       핵심-도전       \n",
      "2                      화6,7,8 / 801관(중앙문화관) 205호 <강의실>       핵심-도전       \n",
      "3                  목1,2,3 / 303관(303관(법학관)) 803호 <강의실>       핵심-도전       \n",
      "4                  목4,5,6 / 303관(303관(법학관)) 803호 <강의실>       핵심-도전       \n",
      "...                                                ...  ...    ...  ...  \n",
      "18060  금1,2,3 / 810관(원형관) 614호 <Lecture room & LAB 02>                   \n",
      "18061                    금1,2,3 / 810관(원형관) 519호 <강의실>                   \n",
      "18062       월2,3,4 / 810관(원형관) 706호 <Lecture & LAB 03>                   \n",
      "18063       월6,7,8 / 810관(원형관) 706호 <Lecture & LAB 03>                   \n",
      "18064       수7,8,9 / 810관(원형관) 706호 <Lecture & LAB 03>                   \n",
      "\n",
      "[18065 rows x 14 columns]\n"
     ]
    }
   ],
   "source": [
    "from bs4 import BeautifulSoup\n",
    "from selenium import webdriver\n",
    "from selenium.webdriver.common.by import By\n",
    "import pandas as pd\n",
    "import time\n",
    "\n",
    "table_data = []\n",
    "\n",
    "sugang_url = 'https://mportal.cau.ac.kr/std/usk/sUskSif001/search.do'\n",
    "driver = webdriver.Chrome()\n",
    "driver.get(sugang_url)\n",
    "time.sleep(3)\n",
    "\n",
    "# 2022년 \n",
    "year_option = driver.find_element(By.XPATH, '//*[@id=\"sel_year\"]/option[2]')\n",
    "year_option.click()\n",
    "\n",
    "# 학부 \n",
    "course_option = driver.find_element(By.XPATH, '//*[@id=\"sel_course\"]')\n",
    "course_option.click()\n",
    "\n",
    "for s in range(1, 4):  # 학기\n",
    "    if s == 1 or s == 3:\n",
    "        # 학기 선택\n",
    "        shtm_option = driver.find_element(By.XPATH, '//*[@id=\"sel_shtm\"]/option[' + str(s) + ']')\n",
    "        shtm_option.click()\n",
    "        time.sleep(1)  \n",
    "        \n",
    "        for c in range(2, 4):  # 캠퍼스\n",
    "            # 캠퍼스 선택\n",
    "            camp_option = driver.find_element(By.XPATH, '//*[@id=\"sel_camp\"]/option[' + str(c) + ']')\n",
    "            camp_option.click()\n",
    "            time.sleep(0.1)\n",
    "\n",
    "            for d in range(3, len(driver.find_elements(By.XPATH, '//*[@id=\"sel_colg\"]/option'))+1):\n",
    "                # 단과대 선택\n",
    "                colg_option = driver.find_element(By.XPATH, '//*[@id=\"sel_colg\"]/option[' + str(d) + ']')\n",
    "                colg_option.click()\n",
    "                time.sleep(0.1)\n",
    "                \n",
    "                for i in range(2, len(driver.find_elements(By.XPATH, '//*[@id=\"sel_sust\"]/option'))+1):\n",
    "                    # 학과(부)/전공/영역 선택\n",
    "                    sust_option = driver.find_element(By.XPATH, '//*[@id=\"sel_sust\"]/option[' + str(i) + ']')\n",
    "                    sust_option.click() \n",
    "                    time.sleep(0.1)\n",
    "\n",
    "                    #print('//*[@id=\"sel_sust\"]/option[' + str(i) + ']')\n",
    "                    \n",
    "                    #request = requests.get('https://mportal.cau.ac.kr/std/usk/sUskSif001/search.do')\n",
    "                    #soup = BeautifulSoup(request.text, 'html.parser')\n",
    "                    #data = soup.find_all(\"div\", {'class':'sp-grid selectable'})\n",
    "                    \n",
    "                    # Click the 검색 button\n",
    "                    search_button = driver.find_element(By.XPATH, '//button[contains(text(), \"검색\")]')\n",
    "                    search_button.click()\n",
    "                    time.sleep(0.3)\n",
    "                        \n",
    "                    # table data\n",
    "                    soup = BeautifulSoup(driver.page_source, 'html.parser')\n",
    "                    data = soup.find_all(\"div\", {'class':'sp-grid-data-row'})\n",
    "                    \n",
    "                    for row in data:\n",
    "                        row_data = [span.text.strip() for span in row.find_all('span', class_='ng-binding ng-scope')]\n",
    "                        table_data.append(row_data)\n",
    "                        \n",
    "                           \n",
    "# table data as DataFrame\n",
    "column_names = ['대학', '개설학과', '학년', '과정', '이수구분', '과목번호-분반', '과목명', '학점-시간', '담당교수', '폐강', '강의시간', '유연학기', '비고', '수업유형']\n",
    "df = pd.DataFrame(data=table_data, columns=column_names)\n",
    "print(df)"
   ]
  },
  {
   "cell_type": "code",
   "execution_count": 65,
   "id": "65d685c6",
   "metadata": {},
   "outputs": [
    {
     "name": "stdout",
     "output_type": "stream",
     "text": [
      "['대학', '개설학과', '학년', '과정', '이수구분', '과목번호-분반', '과목명', '학점-시간', '담당교수', '폐강', '강의시간', '유연학기', '비고', '수업유형']\n",
      "['대학', '개설학과', '학년', '과정', '이수구분', '과목번호-분반', '과목명', '학점-시간', '담당교수', '폐강', '강의시간', '유연학기', '비고', '수업유형']\n"
     ]
    }
   ],
   "source": [
    "column_list = df.columns.tolist()   # tolist - array를 list로 반환\n",
    "print(column_list)\n",
    "column_list = list(df.keys())       # key() 매서드 - columns 인덱스 객체->리스트 변환\n",
    "print(column_list)"
   ]
  },
  {
   "cell_type": "markdown",
   "id": "29c1cebc",
   "metadata": {},
   "source": [
    "대학\n",
    "개설학과\n",
    "학년\n",
    "이수구분\n",
    "과목번호-분반\n",
    "과목명\n",
    "비고"
   ]
  },
  {
   "cell_type": "code",
   "execution_count": 66,
   "id": "a02e00af",
   "metadata": {},
   "outputs": [
    {
     "name": "stdout",
     "output_type": "stream",
     "text": [
      "           대학   개설학과  학년  이수구분   과목번호-분반                과목명     비고\n",
      "0      대학(전체)         전체    교양  28703-01              경제와사회  핵심-도전\n",
      "1      대학(전체)         전체    교양  28703-01              경제와사회  핵심-도전\n",
      "2      대학(전체)         전체    교양  28703-02              경제와사회  핵심-도전\n",
      "3      대학(전체)         전체    교양  28703-02              경제와사회  핵심-도전\n",
      "4      대학(전체)         전체    교양  28703-03              경제와사회  핵심-도전\n",
      "...       ...    ...  ..   ...       ...                ...    ...\n",
      "18060  예술공학대학  예술공학부   3  전공필수  56845-02      캡스톤 디자인 프로젝트Ⅰ       \n",
      "18061  예술공학대학  예술공학부   3  전공필수  56845-03      캡스톤 디자인 프로젝트Ⅰ       \n",
      "18062  예술공학대학  예술공학부   3    전공  55403-01  피지컬컴퓨팅과제어 (영어A강의)       \n",
      "18063  예술공학대학  예술공학부   3    전공  55403-02  피지컬컴퓨팅과제어 (영어A강의)       \n",
      "18064  예술공학대학  예술공학부   4    전공  56084-01        이머시브 미디어 기술       \n",
      "\n",
      "[18065 rows x 7 columns]\n"
     ]
    }
   ],
   "source": [
    "selected_columns = ['대학', '개설학과', '학년', '이수구분', '과목번호-분반', '과목명', '비고']\n",
    "new_df = df[selected_columns]\n",
    "print(new_df)"
   ]
  },
  {
   "cell_type": "code",
   "execution_count": 67,
   "id": "ccf82045",
   "metadata": {},
   "outputs": [],
   "source": [
    "df.to_csv('C:/Users/황의지/Desktop/hk+/cau_timeschedule_full.csv', index=False, encoding='utf-8-sig')"
   ]
  },
  {
   "cell_type": "code",
   "execution_count": 68,
   "id": "86b946fc",
   "metadata": {},
   "outputs": [
    {
     "name": "stdout",
     "output_type": "stream",
     "text": [
      "          대학 학과(부)/전공/영역      개설학과  학년  과정  이수구분   과목번호-분반             과목명  \\\n",
      "0     대학(전체)  외식산업경영연계전공            전체  학사    교양  28703-01           경제와사회   \n",
      "1     대학(전체)  외식산업경영연계전공            전체  학사    교양  28703-01           경제와사회   \n",
      "2     대학(전체)  외식산업경영연계전공            전체  학사    교양  28703-02           경제와사회   \n",
      "3     대학(전체)  외식산업경영연계전공            전체  학사    교양  28703-02           경제와사회   \n",
      "4     대학(전체)  외식산업경영연계전공            전체  학사    교양  28703-03           경제와사회   \n",
      "..       ...         ...       ...  ..  ..   ...       ...             ...   \n",
      "177   자연과학대학    금융공학융합전공       수학과   4  학사    전공  33675-01    금융수학 (영어A강의)   \n",
      "178   대학(전체)    금융공학융합전공  금융공학융합전공   4  학사  전공필수  56606-02     금융인공지능실습(2)   \n",
      "179  소프트웨어대학    금융공학융합전공   소프트웨어학부   4  학사    전공  50648-01           빅 데이터   \n",
      "180   경영경제대학    금융공학융합전공    응용통계학과   4  학사    전공  21893-01  통계학세미나 (영어A강의)   \n",
      "181  소프트웨어대학    금융공학융합전공   소프트웨어학부   4  학사    전공  56122-01        패턴 인식 응용   \n",
      "\n",
      "    학점-시간 담당교수 폐강                                               강의시간 유연학기  \\\n",
      "0     3-3  장선해                     수1,2,3 / 310관(310관) B603호 <대형강의실>        \n",
      "1     3-3  손주현                       화1,2,3 / 801관(중앙문화관) 205호 <강의실>        \n",
      "2     3-3  손주현                       화6,7,8 / 801관(중앙문화관) 205호 <강의실>        \n",
      "3     3-3  김지영                   목1,2,3 / 303관(303관(법학관)) 803호 <강의실>        \n",
      "4     3-3  김지영                   목4,5,6 / 303관(303관(법학관)) 803호 <강의실>        \n",
      "..    ...  ... ..                                                ...  ...   \n",
      "177   3-3  홍영훈       월7 / 수7,8 / 102관(102관(약학대학 및 R&D센터)) 805호 <강의실>        \n",
      "178   3-3  김종현                        목7,8,9 / 310관(310관) 412호 <강의실>        \n",
      "179   3-3  김무철                     화5,6 / 목5 / 310관(310관) 726호 <강의실>        \n",
      "180   3-3  김삼용     화(10:30~11:45) / 목(10:30~11:45) / 310관(310관) 9...        \n",
      "181   3-3  박재화         금4,5,6 / 208관(208관(제2공학관)) 213호 <SW교육 첨단강의실1>        \n",
      "\n",
      "        비고 수업유형  \n",
      "0    핵심-도전       \n",
      "1    핵심-도전       \n",
      "2    핵심-도전       \n",
      "3    핵심-도전       \n",
      "4    핵심-도전       \n",
      "..     ...  ...  \n",
      "177              \n",
      "178   융합전공       \n",
      "179   공학주제       \n",
      "180              \n",
      "181   공학주제       \n",
      "\n",
      "[182 rows x 15 columns]\n"
     ]
    }
   ],
   "source": [
    "from bs4 import BeautifulSoup\n",
    "from selenium import webdriver\n",
    "from selenium.webdriver.common.by import By\n",
    "import pandas as pd\n",
    "import time\n",
    "\n",
    "table_data = []\n",
    "\n",
    "sugang_url = 'https://mportal.cau.ac.kr/std/usk/sUskSif001/search.do'\n",
    "driver = webdriver.Chrome()\n",
    "driver.get(sugang_url)\n",
    "time.sleep(3)\n",
    "\n",
    "# 2022년 \n",
    "year_option = driver.find_element(By.XPATH, '//*[@id=\"sel_year\"]/option[2]')\n",
    "year_option.click()\n",
    "\n",
    "# 학부 \n",
    "course_option = driver.find_element(By.XPATH, '//*[@id=\"sel_course\"]')\n",
    "course_option.click()\n",
    "\n",
    "for s in range(1, 4):  # 학기\n",
    "    if s == 1 or s == 3:\n",
    "        # 학기 선택\n",
    "        shtm_option = driver.find_element(By.XPATH, '//*[@id=\"sel_shtm\"]/option[' + str(s) + ']')\n",
    "        shtm_option.click()\n",
    "        time.sleep(1)  \n",
    "\n",
    "        for c in range(2, 4):  # 캠퍼스\n",
    "            # 캠퍼스 선택\n",
    "            camp_option = driver.find_element(By.XPATH, '//*[@id=\"sel_camp\"]/option[' + str(c) + ']')\n",
    "            camp_option.click()\n",
    "            time.sleep(1)  \n",
    "\n",
    "            for d in range(3, 5):\n",
    "                # 단과대 선택\n",
    "                colg_option = driver.find_element(By.XPATH, '//*[@id=\"sel_colg\"]/option[' + str(d) + ']')\n",
    "                colg_option.click()\n",
    "                time.sleep(1)  \n",
    "\n",
    "                for i in range(2, 3):\n",
    "                    # 학과(부)/전공/영역 선택\n",
    "                    sust_option = driver.find_element(By.XPATH, '//*[@id=\"sel_sust\"]/option[' + str(i) + ']')\n",
    "                    sust_value = sust_option.text.strip()   # df column 추가 위해\n",
    "                    sust_option.click()\n",
    "                    time.sleep(0.1)  \n",
    "\n",
    "                    # Click the 검색 button\n",
    "                    search_button = driver.find_element(By.XPATH, '//button[contains(text(), \"검색\")]')\n",
    "                    search_button.click()\n",
    "                    time.sleep(1)\n",
    "\n",
    "                    # table data\n",
    "                    soup = BeautifulSoup(driver.page_source, 'html.parser')\n",
    "                    data = soup.find_all(\"div\", {'class':'sp-grid-data-row'})\n",
    "                    \n",
    "                    for row in data:\n",
    "                        row_data = [span.text.strip() for span in row.find_all('span', class_='ng-binding ng-scope')]\n",
    "                        row_data.insert(1, sust_value)  # Insert 학과(부)/전공/영역 정보\n",
    "                        table_data.append(row_data)\n",
    "\n",
    "# table data as DataFrame\n",
    "column_names = ['대학', '학과(부)/전공/영역', '개설학과', '학년', '과정', '이수구분', '과목번호-분반', '과목명', '학점-시간', '담당교수', '폐강', '강의시간', '유연학기', '비고', '수업유형']\n",
    "df = pd.DataFrame(data=table_data, columns=column_names)\n",
    "print(df)"
   ]
  },
  {
   "cell_type": "code",
   "execution_count": 69,
   "id": "192fdd18",
   "metadata": {},
   "outputs": [
    {
     "name": "stdout",
     "output_type": "stream",
     "text": [
      "          대학 학과(부)/전공/영역      개설학과  학년  이수구분   과목번호-분반             과목명     비고\n",
      "0     대학(전체)  외식산업경영연계전공            전체    교양  28703-01           경제와사회  핵심-도전\n",
      "1     대학(전체)  외식산업경영연계전공            전체    교양  28703-01           경제와사회  핵심-도전\n",
      "2     대학(전체)  외식산업경영연계전공            전체    교양  28703-02           경제와사회  핵심-도전\n",
      "3     대학(전체)  외식산업경영연계전공            전체    교양  28703-02           경제와사회  핵심-도전\n",
      "4     대학(전체)  외식산업경영연계전공            전체    교양  28703-03           경제와사회  핵심-도전\n",
      "..       ...         ...       ...  ..   ...       ...             ...    ...\n",
      "177   자연과학대학    금융공학융합전공       수학과   4    전공  33675-01    금융수학 (영어A강의)       \n",
      "178   대학(전체)    금융공학융합전공  금융공학융합전공   4  전공필수  56606-02     금융인공지능실습(2)   융합전공\n",
      "179  소프트웨어대학    금융공학융합전공   소프트웨어학부   4    전공  50648-01           빅 데이터   공학주제\n",
      "180   경영경제대학    금융공학융합전공    응용통계학과   4    전공  21893-01  통계학세미나 (영어A강의)       \n",
      "181  소프트웨어대학    금융공학융합전공   소프트웨어학부   4    전공  56122-01        패턴 인식 응용   공학주제\n",
      "\n",
      "[182 rows x 8 columns]\n"
     ]
    }
   ],
   "source": [
    "selected_columns =  ['대학', '학과(부)/전공/영역', '개설학과', '학년', '이수구분', '과목번호-분반', '과목명', '비고']\n",
    "new_df = df[selected_columns]\n",
    "print(new_df)"
   ]
  },
  {
   "cell_type": "code",
   "execution_count": 70,
   "id": "743ff26c",
   "metadata": {},
   "outputs": [],
   "source": [
    "df.to_csv('C:/Users/황의지/Desktop/hk+/cau_timeschedule.csv', index=False, encoding='utf-8-sig')"
   ]
  }
 ],
 "metadata": {
  "kernelspec": {
   "display_name": "Python 3 (ipykernel)",
   "language": "python",
   "name": "python3"
  },
  "language_info": {
   "codemirror_mode": {
    "name": "ipython",
    "version": 3
   },
   "file_extension": ".py",
   "mimetype": "text/x-python",
   "name": "python",
   "nbconvert_exporter": "python",
   "pygments_lexer": "ipython3",
   "version": "3.9.16"
  }
 },
 "nbformat": 4,
 "nbformat_minor": 5
}
