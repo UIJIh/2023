{
 "cells": [
  {
   "cell_type": "markdown",
   "id": "42b551d5-1c47-471f-92b2-cd3518c16b0d",
   "metadata": {},
   "source": [
    "# View (Reshape)\n",
    "### dim 모든 곱 항상 같아야함 size([x, y, z])"
   ]
  },
  {
   "cell_type": "code",
   "execution_count": 1,
   "id": "6742d0d9-dd20-41ba-b15c-987afdfe1b04",
   "metadata": {},
   "outputs": [],
   "source": [
    "import numpy as np\n",
    "import torch"
   ]
  },
  {
   "cell_type": "code",
   "execution_count": 4,
   "id": "79430da0-953f-406a-bbde-87a6f3ba9600",
   "metadata": {},
   "outputs": [
    {
     "name": "stdout",
     "output_type": "stream",
     "text": [
      "torch.Size([2, 2, 3])\n"
     ]
    }
   ],
   "source": [
    "t = np.array = ([[[0, 1, 2],\n",
    "                 [3, 4, 5]],\n",
    "                 \n",
    "                 [[6, 7, 8],\n",
    "                 [9, 10, 11]]])\n",
    "\n",
    "ft = torch.FloatTensor(t)\n",
    "print(ft.shape)"
   ]
  },
  {
   "cell_type": "code",
   "execution_count": 5,
   "id": "c6250933-e03a-4cc0-aab4-1440338ffeb6",
   "metadata": {},
   "outputs": [
    {
     "name": "stdout",
     "output_type": "stream",
     "text": [
      "tensor([[ 0.,  1.,  2.],\n",
      "        [ 3.,  4.,  5.],\n",
      "        [ 6.,  7.,  8.],\n",
      "        [ 9., 10., 11.]])\n",
      "torch.Size([4, 3])\n"
     ]
    }
   ],
   "source": [
    "print(ft.view([-1, 3]))\n",
    "            # 앞엔모르겠고, 뒤는 3\n",
    "print(ft.view([-1, 3]).shape)\n",
    "            # rowxcol, 3"
   ]
  },
  {
   "cell_type": "code",
   "execution_count": 7,
   "id": "a18ebd34-04da-480c-8b08-27178d990ed8",
   "metadata": {},
   "outputs": [
    {
     "name": "stdout",
     "output_type": "stream",
     "text": [
      "tensor([[[ 0.,  1.,  2.]],\n",
      "\n",
      "        [[ 3.,  4.,  5.]],\n",
      "\n",
      "        [[ 6.,  7.,  8.]],\n",
      "\n",
      "        [[ 9., 10., 11.]]])\n",
      "torch.Size([4, 1, 3])\n"
     ]
    }
   ],
   "source": [
    "print(ft.view([-1, 1, 3]))\n",
    "            #    dim[1]\n",
    "print(ft.view([-1, 1, 3]).shape) "
   ]
  },
  {
   "cell_type": "markdown",
   "id": "a5f04b9a-0729-4342-aaa6-87808bd36f48",
   "metadata": {},
   "source": [
    "주어진 정보에 따르면, 이 텐서의 크기(`torch.Size([4, 1, 3])`)는 `(4, 1, 3)`으로 표현되며, 이것은 3차원 텐서입니다.\r\n",
    "\r\n",
    "텐서의 각 차원에 대한 설명은 다음과 같습니다:\r\n",
    "\r\n",
    "1. 첫 번째 차원(1번째 값): 크기 4\r\n",
    "   - 이 차원은 텐서의 가장 바깥쪽 차원으로, 4개의 원소를 가지고 있습니다. 이 차원은 주로 \"배치(batch)\"라고 불리며, 여러 데이터 샘플을 동시에 처리하는 데 사용될 수 있습니다.\r\n",
    "\r\n",
    "2. 두 번째 차원(2번째 값 -> 큰 묶음으로 보면 될 듯): 크기 1\r\n",
    "   - 이 차원은 1개의 원소만 가지고 있으므로 길이가 1인 차원입니다. 이러한 차원은 주로 \"채널(channel)\" 차원이라고 불리며, 이미지 처리와 관련하여 사용될 수3.습니다.\r\n",
    "\r\n",
    "3. 세 번째 차원(3번째 값): 크기 3\r\n",
    "   - 이 차원은 3개의 원소를 가지고 있으며, 각각의 원소는 실수값을 나타냅니다. 이 차원은 주로 데이터의 특성(feature)을 나타내며, 예를 들어 하나의 데이터 포인트가 3개의 특성을 가진 경우에 사용될 수 있습니다.\r\n",
    "\r\n",
    "따라서 주어진 텐서는 4개의 데이터 배치(batch)가 있고, 각 데이터는 1개의 채널(channel)을 가지며, 각 채널은 3개의 특성(feature)을 가지고 있습니다. 이러한 3차원 텐서는 딥러닝과 같은 다양한 분야에서 데이터의 표현과 처리에 사용됩니다."
   ]
  },
  {
   "cell_type": "markdown",
   "id": "d5ab12f2-1afb-491f-848f-944e78cef5de",
   "metadata": {},
   "source": [
    "# Squeez"
   ]
  },
  {
   "cell_type": "code",
   "execution_count": 9,
   "id": "1afaade4-3361-468e-80a9-8f775a9a8f32",
   "metadata": {},
   "outputs": [
    {
     "name": "stdout",
     "output_type": "stream",
     "text": [
      "tensor([[0.],\n",
      "        [1.],\n",
      "        [2.]])\n",
      "torch.Size([3, 1])\n"
     ]
    }
   ],
   "source": [
    "ft = torch.FloatTensor([[0], [1], [2]])  // col 1개 = element 1개 = dim 1 -> 날려버림 (3, )\n",
    "print(ft)\n",
    "print(ft.shape)"
   ]
  },
  {
   "cell_type": "code",
   "execution_count": 12,
   "id": "da07e635-ca6a-42bd-8eb9-71458ee26828",
   "metadata": {},
   "outputs": [
    {
     "name": "stdout",
     "output_type": "stream",
     "text": [
      "tensor([0., 1., 2.])\n",
      "torch.Size([3])\n"
     ]
    }
   ],
   "source": [
    "print(ft.squeeze()) \n",
    "print(ft.squeeze().shape)"
   ]
  },
  {
   "cell_type": "markdown",
   "id": "4bcc4b73-9009-427a-9cc9-d0275e0839b8",
   "metadata": {},
   "source": [
    "`squeeze` 함수는 PyTorch에서 사용되는 함수 중 하나로, 텐서(tensor)의 차원 중 크기가 1인 차원을 제거하는 데 사용됩니다. 이 함수는 텐서의 모양(shape)을 변경하고, 데이터에는 영향을 주지 않으면서 차원을 조정합니다.\r\n",
    "\r\n",
    "`squeeze` 함수는 다음과 같이 사용됩니다:\r\n",
    "\r\n",
    "```python\r\n",
    "torch.squeeze(input, dim=None)\r\n",
    "```\r\n",
    "\r\n",
    "- `input`: 크기가 1인 차원을 제거할 입력 텐서입니다.\r\n",
    "- `dim` (선택 사항): 제거할 차원을 지정하는 매개변수입니다. 이 매개변수를 지정하지 않으면 모든 크기가 1인 차원이 제거됩니다.\r\n",
    "\r\n",
    "`squeeze` 함수는 다음과 같이 작동합니다:\r\n",
    "\r\n",
    "1. 크기가 1인 차원을 찾습니다. 이러한 차원은 제거 대상이 됩니다.\r\n",
    "2. `dim` 매개변수가 제공되면 해당 차원만 제거하고, `dim`이 제공되지 않으면 모든 크기가 1인 차원을 제거합니다.\r\n",
    "3. 결과로 나오는 텐서의 모양(shape)이 변경되며, 크기가 1인 차원은 모두 제거됩니다.\r\n",
    "4. 데이터는 변경되지 않고 그대로 유지됩니다.\r\n",
    "\r\n",
    "예를 들어, 다음과 같이 크기가 1인 차원을 제거하는 예를 살펴보겠습니다:\r\n",
    "\r\n",
    "```python\r\n",
    "import torch\r\n",
    "\r\n",
    "# 크기가 1인 차원이 있는 텐서\r\n",
    "t = torch.randn(1, 3, 1, 2)  # 크기가 1인 차원이 2개 존재\r\n",
    "\r\n",
    "# squeeze를 사용하여 크기가 1인 차원 제거\r\n",
    "result = torch.squeeze(t)\r\n",
    "\r\n",
    "print(t.shape)       # torch.Size([1, 3, 1, 2])\r\n",
    "print(result.shape)  # torch.Size([3, 2])\r\n",
    "```\r\n",
    "\r\n",
    "위의 예제에서 `squeeze` 함수를 사용하여 크기가 1인 차원을 제거하면 결과 텐서의 모양이 변경되어 `(3, 2)`가 됩니다."
   ]
  },
  {
   "cell_type": "markdown",
   "id": "40f5e56a-a04f-4af3-885a-2f836af305f7",
   "metadata": {},
   "source": [
    "# Unsqueeze"
   ]
  },
  {
   "cell_type": "code",
   "execution_count": 14,
   "id": "ae336db3-3ea4-47f7-ac01-9ae86f5fe6b6",
   "metadata": {},
   "outputs": [
    {
     "name": "stdout",
     "output_type": "stream",
     "text": [
      "tensor([[0., 1., 2.]])\n"
     ]
    }
   ],
   "source": [
    "ft = torch.FloatTensor([0, 1, 2]) # dim 1 (3, )\n",
    "print(ft.unsqueeze(0)) # dim[0]에 차원 1을 추가 (1, 3)"
   ]
  },
  {
   "cell_type": "code",
   "execution_count": 17,
   "id": "96bddd14-6e65-4914-a2a2-eb77192b1258",
   "metadata": {},
   "outputs": [
    {
     "name": "stdout",
     "output_type": "stream",
     "text": [
      "tensor([[0., 1., 2.]])\n"
     ]
    }
   ],
   "source": [
    "print(ft.view(1, -1))\n",
    "        # 앞에 1"
   ]
  },
  {
   "cell_type": "code",
   "execution_count": 18,
   "id": "d74ba2d0-fe19-4033-85eb-1836da551e9c",
   "metadata": {},
   "outputs": [
    {
     "name": "stdout",
     "output_type": "stream",
     "text": [
      "tensor([[0.],\n",
      "        [1.],\n",
      "        [2.]])\n"
     ]
    }
   ],
   "source": [
    "print(ft.unsqueeze(1))"
   ]
  },
  {
   "cell_type": "code",
   "execution_count": 19,
   "id": "a4faabf0-b732-4cc4-b2ee-45c90f4f35b7",
   "metadata": {},
   "outputs": [
    {
     "name": "stdout",
     "output_type": "stream",
     "text": [
      "tensor([[0.],\n",
      "        [1.],\n",
      "        [2.]])\n"
     ]
    }
   ],
   "source": [
    "print(ft.view(-1, 1))"
   ]
  },
  {
   "cell_type": "markdown",
   "id": "98f3e235-1f9f-4cb1-a462-c328b20bd28f",
   "metadata": {},
   "source": [
    "# Type Casting\n",
    "- Long/Byte Tensor"
   ]
  },
  {
   "cell_type": "code",
   "execution_count": 26,
   "id": "02578b0a-3f6e-42d2-9d87-feeb1b6caf8c",
   "metadata": {},
   "outputs": [
    {
     "name": "stdout",
     "output_type": "stream",
     "text": [
      "tensor([1, 2, 3, 4])\n"
     ]
    }
   ],
   "source": [
    "lt = torch.LongTensor([1, 2, 3, 4])\n",
    "print(lt)\n",
    "# print(lt.mean()) 불가"
   ]
  },
  {
   "cell_type": "code",
   "execution_count": 27,
   "id": "6b120efe-10cd-4247-a8db-6557534ee826",
   "metadata": {},
   "outputs": [
    {
     "name": "stdout",
     "output_type": "stream",
     "text": [
      "tensor([1., 2., 3., 4.])\n",
      "tensor(2.5000)\n"
     ]
    }
   ],
   "source": [
    "print(lt.float())\n",
    "print(lt.float().mean())"
   ]
  },
  {
   "cell_type": "code",
   "execution_count": 28,
   "id": "5f348783-b431-4d67-8a7e-4a1286c759ab",
   "metadata": {},
   "outputs": [
    {
     "name": "stdout",
     "output_type": "stream",
     "text": [
      "tensor([1, 0, 1, 1], dtype=torch.uint8)\n"
     ]
    }
   ],
   "source": [
    "# 마스킹 값으로 활용\n",
    "bt = torch.ByteTensor([True, False, True, True])  # Boolean 값            \n",
    "print(bt)"
   ]
  },
  {
   "cell_type": "code",
   "execution_count": 29,
   "id": "fbb10a5a-0d7d-4edc-886e-f428507705b1",
   "metadata": {},
   "outputs": [
    {
     "name": "stdout",
     "output_type": "stream",
     "text": [
      "tensor([1, 0, 1, 1])\n"
     ]
    }
   ],
   "source": [
    "print(bt.long())  # 정수값"
   ]
  },
  {
   "cell_type": "code",
   "execution_count": 30,
   "id": "4a3a1e24-4b48-4011-b438-bc49055cc6ab",
   "metadata": {},
   "outputs": [
    {
     "name": "stdout",
     "output_type": "stream",
     "text": [
      "tensor([1., 0., 1., 1.])\n"
     ]
    }
   ],
   "source": [
    "print(bt.float())"
   ]
  },
  {
   "cell_type": "markdown",
   "id": "2c8b8b2e-023a-472b-8fd1-9150100903a5",
   "metadata": {},
   "source": [
    "# Concatenate 이어붙임"
   ]
  },
  {
   "cell_type": "code",
   "execution_count": 53,
   "id": "63a86ef8-02b2-4200-b2d7-6ca7088ff5bd",
   "metadata": {},
   "outputs": [],
   "source": [
    "x = torch.FloatTensor([[1, 2], [3, 4]])\n",
    "y = torch.FloatTensor([[5, 6], [7, 8]])"
   ]
  },
  {
   "cell_type": "code",
   "execution_count": 33,
   "id": "4d5dee7a-8cf3-4c31-b6ea-fed7aa0fd681",
   "metadata": {},
   "outputs": [
    {
     "name": "stdout",
     "output_type": "stream",
     "text": [
      "tensor([[1., 2.],\n",
      "        [3., 4.],\n",
      "        [5., 6.],\n",
      "        [7., 8.]])\n",
      "tensor([[1., 2., 5., 6.],\n",
      "        [3., 4., 7., 8.]])\n"
     ]
    }
   ],
   "source": [
    "print(torch.cat([x, y], dim=0))\n",
    "print(torch.cat([x, y], dim=1))"
   ]
  },
  {
   "cell_type": "markdown",
   "id": "1c7097aa-4410-4811-a227-e435a8b0fe3d",
   "metadata": {},
   "source": [
    "# Stacking (list, dim)"
   ]
  },
  {
   "cell_type": "code",
   "execution_count": 34,
   "id": "9ea8958c-7d7b-46d9-84e9-273139a6d866",
   "metadata": {},
   "outputs": [],
   "source": [
    "x = torch.FloatTensor([1, 4])   # dim 1\n",
    "y = torch.FloatTensor([2, 5])\n",
    "z = torch.FloatTensor([3, 6])"
   ]
  },
  {
   "cell_type": "code",
   "execution_count": 42,
   "id": "e6c11088-32ff-4c68-9648-3c43c2e21349",
   "metadata": {},
   "outputs": [
    {
     "name": "stdout",
     "output_type": "stream",
     "text": [
      "tensor([[1., 4.],\n",
      "        [2., 5.],\n",
      "        [3., 6.]])\n",
      "tensor([[1., 2., 3.],\n",
      "        [4., 5., 6.]])\n"
     ]
    }
   ],
   "source": [
    "print(torch.stack([x, y, z]))  # dim 2\n",
    "                # 위로 쌓기\n",
    "print(torch.stack([x, y, z], dim=1))\n",
    "                            # 가로, 옆으로 쌓기 == Transpose해서"
   ]
  },
  {
   "cell_type": "code",
   "execution_count": 44,
   "id": "7fa7eae1-28fa-40d8-8af4-3a9d1f5ebcb7",
   "metadata": {},
   "outputs": [
    {
     "name": "stdout",
     "output_type": "stream",
     "text": [
      "tensor([[1., 4.],\n",
      "        [2., 5.],\n",
      "        [3., 6.]])\n"
     ]
    }
   ],
   "source": [
    "print(torch.cat([x.unsqueeze(0), y.unsqueeze(0), z.unsqueeze(0)], dim = 0))\n",
    "                # dim 2"
   ]
  },
  {
   "cell_type": "markdown",
   "id": "c9a60b5f-68ba-4e0f-ae0e-52aeb1825ec9",
   "metadata": {},
   "source": [
    "# Ones and Zeros() 함수\n",
    ": shape은 같고 0 or 1 할당"
   ]
  },
  {
   "cell_type": "code",
   "execution_count": 45,
   "id": "8036114a-bd73-4e98-b171-947c9b532299",
   "metadata": {},
   "outputs": [
    {
     "name": "stdout",
     "output_type": "stream",
     "text": [
      "tensor([[1., 2., 3.],\n",
      "        [3., 4., 5.]])\n"
     ]
    }
   ],
   "source": [
    "x = torch.FloatTensor([[1, 2, 3], [3, 4, 5]])\n",
    "print(x)"
   ]
  },
  {
   "cell_type": "code",
   "execution_count": 46,
   "id": "6b0b5634-4f11-442f-b0b8-d2efc4d11041",
   "metadata": {},
   "outputs": [
    {
     "name": "stdout",
     "output_type": "stream",
     "text": [
      "tensor([[1., 1., 1.],\n",
      "        [1., 1., 1.]])\n",
      "tensor([[0., 0., 0.],\n",
      "        [0., 0., 0.]])\n"
     ]
    }
   ],
   "source": [
    "print(torch.ones_like(x))    # 같은 device에 선언됨\n",
    "print(torch.zeros_like(x))   # multiple gpu, 동일 장치에서 연산해야함"
   ]
  },
  {
   "cell_type": "markdown",
   "id": "04ac3eb5-0867-4478-a9c9-e869a2a6c54d",
   "metadata": {},
   "source": [
    "# In-Place Operation : mul(), mul_()"
   ]
  },
  {
   "cell_type": "code",
   "execution_count": 51,
   "id": "bbd9bc84-99f6-4c82-85ec-6d7a9e8ddfb4",
   "metadata": {},
   "outputs": [],
   "source": [
    "x = torch.FloatTensor([[1, 2], [3, 4]])"
   ]
  },
  {
   "cell_type": "code",
   "execution_count": 52,
   "id": "1739185e-661c-4fdf-8c36-714747b357d3",
   "metadata": {},
   "outputs": [
    {
     "name": "stdout",
     "output_type": "stream",
     "text": [
      "tensor([[2., 4.],\n",
      "        [6., 8.]])\n",
      "tensor([[1., 2.],\n",
      "        [3., 4.]])\n",
      "tensor([[2., 4.],\n",
      "        [6., 8.]])\n",
      "tensor([[2., 4.],\n",
      "        [6., 8.]])\n"
     ]
    }
   ],
   "source": [
    "print(x.mul(2.))  # multi 2\n",
    "print(x)\n",
    "print(x.mul_(2.)) # 메모리 따로 선언안하고도 연산 수행, 값 바꿈\n",
    "print(x)"
   ]
  }
 ],
 "metadata": {
  "kernelspec": {
   "display_name": "Python 3 (ipykernel)",
   "language": "python",
   "name": "python3"
  },
  "language_info": {
   "codemirror_mode": {
    "name": "ipython",
    "version": 3
   },
   "file_extension": ".py",
   "mimetype": "text/x-python",
   "name": "python",
   "nbconvert_exporter": "python",
   "pygments_lexer": "ipython3",
   "version": "3.11.5"
  }
 },
 "nbformat": 4,
 "nbformat_minor": 5
}
