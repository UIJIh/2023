{
 "cells": [
  {
   "cell_type": "code",
   "execution_count": 4,
   "id": "1e0a666e",
   "metadata": {},
   "outputs": [
    {
     "name": "stdout",
     "output_type": "stream",
     "text": [
      "           대학 학과(부)/전공/영역   개설학과  학년  과정  이수구분   과목번호-분반                과목명  \\\n",
      "0      대학(전체)  외식산업경영연계전공         전체  학사    교양  28703-01              경제와사회   \n",
      "1      대학(전체)  외식산업경영연계전공         전체  학사    교양  28703-01              경제와사회   \n",
      "2      대학(전체)  외식산업경영연계전공         전체  학사    교양  28703-02              경제와사회   \n",
      "3      대학(전체)  외식산업경영연계전공         전체  학사    교양  28703-02              경제와사회   \n",
      "4      대학(전체)  외식산업경영연계전공         전체  학사    교양  28703-03              경제와사회   \n",
      "...       ...         ...    ...  ..  ..   ...       ...                ...   \n",
      "18058  예술공학대학       예술공학부  예술공학부   3  학사  전공필수  56845-02      캡스톤 디자인 프로젝트Ⅰ   \n",
      "18059  예술공학대학       예술공학부  예술공학부   3  학사  전공필수  56845-03      캡스톤 디자인 프로젝트Ⅰ   \n",
      "18060  예술공학대학       예술공학부  예술공학부   3  학사    전공  55403-01  피지컬컴퓨팅과제어 (영어A강의)   \n",
      "18061  예술공학대학       예술공학부  예술공학부   3  학사    전공  55403-02  피지컬컴퓨팅과제어 (영어A강의)   \n",
      "18062  예술공학대학       예술공학부  예술공학부   4  학사    전공  56084-01        이머시브 미디어 기술   \n",
      "\n",
      "      학점-시간 담당교수 폐강                                             강의시간 유연학기  \\\n",
      "0       3-3  장선해                   수1,2,3 / 310관(310관) B603호 <대형강의실>        \n",
      "1       3-3  손주현                     화1,2,3 / 801관(중앙문화관) 205호 <강의실>        \n",
      "2       3-3  손주현                     화6,7,8 / 801관(중앙문화관) 205호 <강의실>        \n",
      "3       3-3  김지영                 목1,2,3 / 303관(303관(법학관)) 803호 <강의실>        \n",
      "4       3-3  김지영                 목4,5,6 / 303관(303관(법학관)) 803호 <강의실>        \n",
      "...     ...  ... ..                                              ...  ...   \n",
      "18058   3-3  김윤지     금1,2,3 / 810관(원형관) 614호 <Lecture room & LAB 02>        \n",
      "18059   3-3  정재필                       금1,2,3 / 810관(원형관) 519호 <강의실>        \n",
      "18060   3-3  김윤지          월2,3,4 / 810관(원형관) 706호 <Lecture & LAB 03>        \n",
      "18061   3-3  김윤지          월6,7,8 / 810관(원형관) 706호 <Lecture & LAB 03>        \n",
      "18062   3-3  박상규          수7,8,9 / 810관(원형관) 706호 <Lecture & LAB 03>        \n",
      "\n",
      "          비고 수업유형  \n",
      "0      핵심-도전       \n",
      "1      핵심-도전       \n",
      "2      핵심-도전       \n",
      "3      핵심-도전       \n",
      "4      핵심-도전       \n",
      "...      ...  ...  \n",
      "18058              \n",
      "18059              \n",
      "18060              \n",
      "18061              \n",
      "18062              \n",
      "\n",
      "[18063 rows x 15 columns]\n"
     ]
    }
   ],
   "source": [
    "from bs4 import BeautifulSoup\n",
    "from selenium import webdriver\n",
    "from selenium.webdriver.common.by import By\n",
    "import pandas as pd\n",
    "import time\n",
    "\n",
    "table_data = []\n",
    "\n",
    "sugang_url = 'https://mportal.cau.ac.kr/std/usk/sUskSif001/search.do'\n",
    "driver = webdriver.Chrome()\n",
    "driver.get(sugang_url)\n",
    "time.sleep(3)\n",
    "\n",
    "# 2022년 \n",
    "year_option = driver.find_element(By.XPATH, '//*[@id=\"sel_year\"]/option[2]')\n",
    "year_option.click()\n",
    "\n",
    "# 학부 \n",
    "course_option = driver.find_element(By.XPATH, '//*[@id=\"sel_course\"]')\n",
    "course_option.click()\n",
    "\n",
    "for s in range(1, 4):  # 학기\n",
    "    if s == 1 or s == 3:\n",
    "        # 학기 선택\n",
    "        shtm_option = driver.find_element(By.XPATH, '//*[@id=\"sel_shtm\"]/option[' + str(s) + ']')\n",
    "        shtm_option.click()\n",
    "        time.sleep(1)  \n",
    "\n",
    "        for c in range(2, 4):  # 캠퍼스\n",
    "            # 캠퍼스 선택\n",
    "            camp_option = driver.find_element(By.XPATH, '//*[@id=\"sel_camp\"]/option[' + str(c) + ']')\n",
    "            camp_option.click()\n",
    "            time.sleep(1)  \n",
    "\n",
    "            for d in range(3, len(driver.find_elements(By.XPATH, '//*[@id=\"sel_colg\"]/option'))+1):\n",
    "                # 단과대 선택\n",
    "                colg_option = driver.find_element(By.XPATH, '//*[@id=\"sel_colg\"]/option[' + str(d) + ']')\n",
    "                colg_option.click()\n",
    "                time.sleep(1)  \n",
    "\n",
    "                for i in range(2, len(driver.find_elements(By.XPATH, '//*[@id=\"sel_sust\"]/option'))+1):\n",
    "                    # 학과(부)/전공/영역 선택\n",
    "                    sust_option = driver.find_element(By.XPATH, '//*[@id=\"sel_sust\"]/option[' + str(i) + ']')\n",
    "                    sust_value = sust_option.text.strip()   # df column 추가 위해\n",
    "                    sust_option.click()\n",
    "                    time.sleep(0.1)  \n",
    "\n",
    "                    # Click the 검색 button\n",
    "                    search_button = driver.find_element(By.XPATH, '//button[contains(text(), \"검색\")]')\n",
    "                    search_button.click()\n",
    "                    time.sleep(1)\n",
    "\n",
    "                    # table data\n",
    "                    soup = BeautifulSoup(driver.page_source, 'html.parser')\n",
    "                    data = soup.find_all(\"div\", {'class':'sp-grid-data-row'})\n",
    "                    \n",
    "                    for row in data:\n",
    "                        row_data = [span.text.strip() for span in row.find_all('span', class_='ng-binding ng-scope')]\n",
    "                        row_data.insert(1, sust_value)  # Insert 학과(부)/전공/영역 정보\n",
    "                        table_data.append(row_data)\n",
    "\n",
    "# table data as DataFrame\n",
    "column_names = ['대학', '학과(부)/전공/영역', '개설학과', '학년', '과정', '이수구분', '과목번호-분반', '과목명', '학점-시간', '담당교수', '폐강', '강의시간', '유연학기', '비고', '수업유형']\n",
    "df = pd.DataFrame(data=table_data, columns=column_names)\n",
    "print(df)"
   ]
  },
  {
   "cell_type": "code",
   "execution_count": 5,
   "id": "e02c7b36",
   "metadata": {},
   "outputs": [
    {
     "name": "stdout",
     "output_type": "stream",
     "text": [
      "      학과(부)/전공/영역  학년  이수구분   과목번호-분반                과목명\n",
      "0      외식산업경영연계전공  전체    교양  28703-01              경제와사회\n",
      "1      외식산업경영연계전공  전체    교양  28703-01              경제와사회\n",
      "2      외식산업경영연계전공  전체    교양  28703-02              경제와사회\n",
      "3      외식산업경영연계전공  전체    교양  28703-02              경제와사회\n",
      "4      외식산업경영연계전공  전체    교양  28703-03              경제와사회\n",
      "...           ...  ..   ...       ...                ...\n",
      "18058       예술공학부   3  전공필수  56845-02      캡스톤 디자인 프로젝트Ⅰ\n",
      "18059       예술공학부   3  전공필수  56845-03      캡스톤 디자인 프로젝트Ⅰ\n",
      "18060       예술공학부   3    전공  55403-01  피지컬컴퓨팅과제어 (영어A강의)\n",
      "18061       예술공학부   3    전공  55403-02  피지컬컴퓨팅과제어 (영어A강의)\n",
      "18062       예술공학부   4    전공  56084-01        이머시브 미디어 기술\n",
      "\n",
      "[18063 rows x 5 columns]\n"
     ]
    }
   ],
   "source": [
    "selected_columns =  ['학과(부)/전공/영역', '학년', '이수구분', '과목번호-분반', '과목명']\n",
    "new_df = df[selected_columns]\n",
    "print(new_df)"
   ]
  },
  {
   "cell_type": "code",
   "execution_count": 8,
   "id": "8d583931",
   "metadata": {},
   "outputs": [],
   "source": [
    "new_df.to_csv('C:/Users/황의지/Desktop/hk+/cau_timeschedule.csv', index=False, encoding='utf-8-sig')"
   ]
  }
 ],
 "metadata": {
  "kernelspec": {
   "display_name": "Python 3 (ipykernel)",
   "language": "python",
   "name": "python3"
  },
  "language_info": {
   "codemirror_mode": {
    "name": "ipython",
    "version": 3
   },
   "file_extension": ".py",
   "mimetype": "text/x-python",
   "name": "python",
   "nbconvert_exporter": "python",
   "pygments_lexer": "ipython3",
   "version": "3.9.16"
  }
 },
 "nbformat": 4,
 "nbformat_minor": 5
}
